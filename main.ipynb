{
  "nbformat": 4,
  "nbformat_minor": 0,
  "metadata": {
    "colab": {
      "name": "Untitled3.ipynb",
      "provenance": [],
      "collapsed_sections": []
    },
    "kernelspec": {
      "name": "python3",
      "display_name": "Python 3"
    },
    "accelerator": "TPU"
  },
  "cells": [
    {
      "cell_type": "code",
      "metadata": {
        "id": "Rh_62jNQRZF2",
        "colab_type": "code",
        "colab": {
          "base_uri": "https://localhost:8080/",
          "height": 72
        },
        "outputId": "b56e4deb-dbe3-45b7-c436-4beb5973fce4"
      },
      "source": [
        "import pandas as pd\n",
        "import numpy as np\n",
        "import seaborn as sns\n",
        "import matplotlib.pyplot as plt\n",
        "from sklearn.preprocessing import RobustScaler, StandardScaler, MinMaxScaler, OneHotEncoder\n",
        "from sklearn.model_selection import cross_val_score, train_test_split, cross_val_predict\n",
        "from sklearn.ensemble import RandomForestClassifier\n",
        "from sklearn.metrics import roc_auc_score\n",
        "!pip install xgboost\n",
        "import xgboost as xgb\n",
        "from xgboost import XGBClassifier"
      ],
      "execution_count": 79,
      "outputs": [
        {
          "output_type": "stream",
          "text": [
            "Requirement already satisfied: xgboost in /usr/local/lib/python3.6/dist-packages (0.90)\n",
            "Requirement already satisfied: numpy in /usr/local/lib/python3.6/dist-packages (from xgboost) (1.18.5)\n",
            "Requirement already satisfied: scipy in /usr/local/lib/python3.6/dist-packages (from xgboost) (1.4.1)\n"
          ],
          "name": "stdout"
        }
      ]
    },
    {
      "cell_type": "code",
      "metadata": {
        "id": "TY0ySiIUNZRv",
        "colab_type": "code",
        "colab": {}
      },
      "source": [
        "X_train = pd.read_csv('/content/BuyAffinity_Train.txt', sep = '\\t')"
      ],
      "execution_count": 80,
      "outputs": []
    },
    {
      "cell_type": "code",
      "metadata": {
        "id": "q4-dWMtcDZqD",
        "colab_type": "code",
        "colab": {
          "base_uri": "https://localhost:8080/",
          "height": 226
        },
        "outputId": "51477f29-e6ec-4d13-bb48-4db22e185dbb"
      },
      "source": [
        "X_train.head()"
      ],
      "execution_count": 81,
      "outputs": [
        {
          "output_type": "execute_result",
          "data": {
            "text/html": [
              "<div>\n",
              "<style scoped>\n",
              "    .dataframe tbody tr th:only-of-type {\n",
              "        vertical-align: middle;\n",
              "    }\n",
              "\n",
              "    .dataframe tbody tr th {\n",
              "        vertical-align: top;\n",
              "    }\n",
              "\n",
              "    .dataframe thead th {\n",
              "        text-align: right;\n",
              "    }\n",
              "</style>\n",
              "<table border=\"1\" class=\"dataframe\">\n",
              "  <thead>\n",
              "    <tr style=\"text-align: right;\">\n",
              "      <th></th>\n",
              "      <th>Index</th>\n",
              "      <th>F1</th>\n",
              "      <th>F2</th>\n",
              "      <th>F3</th>\n",
              "      <th>F4</th>\n",
              "      <th>F5</th>\n",
              "      <th>F6</th>\n",
              "      <th>F7</th>\n",
              "      <th>F8</th>\n",
              "      <th>F9</th>\n",
              "      <th>F10</th>\n",
              "      <th>F11</th>\n",
              "      <th>F12</th>\n",
              "      <th>F13</th>\n",
              "      <th>F14</th>\n",
              "      <th>F15</th>\n",
              "      <th>F16</th>\n",
              "      <th>F17</th>\n",
              "      <th>F18</th>\n",
              "      <th>F19</th>\n",
              "      <th>F20</th>\n",
              "      <th>F21</th>\n",
              "      <th>F22</th>\n",
              "      <th>C</th>\n",
              "    </tr>\n",
              "  </thead>\n",
              "  <tbody>\n",
              "    <tr>\n",
              "      <th>0</th>\n",
              "      <td>1</td>\n",
              "      <td>0.224506</td>\n",
              "      <td>0.500340</td>\n",
              "      <td>0.489860</td>\n",
              "      <td>0.902413</td>\n",
              "      <td>7934</td>\n",
              "      <td>-6970</td>\n",
              "      <td>-5714</td>\n",
              "      <td>9982</td>\n",
              "      <td>-5697</td>\n",
              "      <td>4227810299</td>\n",
              "      <td>-3918676258</td>\n",
              "      <td>316195953</td>\n",
              "      <td>6176861823</td>\n",
              "      <td>-3433637453</td>\n",
              "      <td>10/4/1986</td>\n",
              "      <td>9/6/1992</td>\n",
              "      <td>2</td>\n",
              "      <td>1</td>\n",
              "      <td>706</td>\n",
              "      <td>305</td>\n",
              "      <td>1</td>\n",
              "      <td>2</td>\n",
              "      <td>0</td>\n",
              "    </tr>\n",
              "    <tr>\n",
              "      <th>1</th>\n",
              "      <td>2</td>\n",
              "      <td>0.321128</td>\n",
              "      <td>0.281119</td>\n",
              "      <td>0.907283</td>\n",
              "      <td>0.772159</td>\n",
              "      <td>-8238</td>\n",
              "      <td>1219</td>\n",
              "      <td>1663</td>\n",
              "      <td>1287</td>\n",
              "      <td>-3658</td>\n",
              "      <td>-1146724819</td>\n",
              "      <td>-6837090439</td>\n",
              "      <td>1378635942</td>\n",
              "      <td>-9031507610</td>\n",
              "      <td>609277486</td>\n",
              "      <td>2/24/1979</td>\n",
              "      <td>1/5/1983</td>\n",
              "      <td>1</td>\n",
              "      <td>1</td>\n",
              "      <td>423</td>\n",
              "      <td>206</td>\n",
              "      <td>18</td>\n",
              "      <td>7</td>\n",
              "      <td>1</td>\n",
              "    </tr>\n",
              "    <tr>\n",
              "      <th>2</th>\n",
              "      <td>3</td>\n",
              "      <td>0.893441</td>\n",
              "      <td>0.622005</td>\n",
              "      <td>0.998776</td>\n",
              "      <td>0.098386</td>\n",
              "      <td>8540</td>\n",
              "      <td>5266</td>\n",
              "      <td>-9377</td>\n",
              "      <td>-3504</td>\n",
              "      <td>-4511</td>\n",
              "      <td>5947184989</td>\n",
              "      <td>6881163164</td>\n",
              "      <td>-9921889287</td>\n",
              "      <td>-5610051842</td>\n",
              "      <td>-8977995005</td>\n",
              "      <td>1/12/1989</td>\n",
              "      <td>11/22/1986</td>\n",
              "      <td>2</td>\n",
              "      <td>1</td>\n",
              "      <td>703</td>\n",
              "      <td>315</td>\n",
              "      <td>1</td>\n",
              "      <td>4</td>\n",
              "      <td>0</td>\n",
              "    </tr>\n",
              "    <tr>\n",
              "      <th>3</th>\n",
              "      <td>4</td>\n",
              "      <td>0.320641</td>\n",
              "      <td>0.957234</td>\n",
              "      <td>0.346000</td>\n",
              "      <td>0.646479</td>\n",
              "      <td>-7772</td>\n",
              "      <td>-383</td>\n",
              "      <td>9681</td>\n",
              "      <td>-8661</td>\n",
              "      <td>3474</td>\n",
              "      <td>-5724795826</td>\n",
              "      <td>-6014104498</td>\n",
              "      <td>6550322883</td>\n",
              "      <td>-4697085930</td>\n",
              "      <td>4868760308</td>\n",
              "      <td>2/18/1982</td>\n",
              "      <td>6/10/1992</td>\n",
              "      <td>1</td>\n",
              "      <td>1</td>\n",
              "      <td>122</td>\n",
              "      <td>304</td>\n",
              "      <td>15</td>\n",
              "      <td>1</td>\n",
              "      <td>0</td>\n",
              "    </tr>\n",
              "    <tr>\n",
              "      <th>4</th>\n",
              "      <td>5</td>\n",
              "      <td>0.475961</td>\n",
              "      <td>0.623008</td>\n",
              "      <td>0.544988</td>\n",
              "      <td>0.159709</td>\n",
              "      <td>1571</td>\n",
              "      <td>-8039</td>\n",
              "      <td>-7961</td>\n",
              "      <td>-2385</td>\n",
              "      <td>4407</td>\n",
              "      <td>-3097637172</td>\n",
              "      <td>-9755731483</td>\n",
              "      <td>759031103</td>\n",
              "      <td>9984692447</td>\n",
              "      <td>9757408267</td>\n",
              "      <td>4/10/1987</td>\n",
              "      <td>10/19/1985</td>\n",
              "      <td>1</td>\n",
              "      <td>1</td>\n",
              "      <td>486</td>\n",
              "      <td>240</td>\n",
              "      <td>1</td>\n",
              "      <td>1</td>\n",
              "      <td>0</td>\n",
              "    </tr>\n",
              "  </tbody>\n",
              "</table>\n",
              "</div>"
            ],
            "text/plain": [
              "   Index        F1        F2        F3        F4  ...  F19  F20  F21  F22  C\n",
              "0      1  0.224506  0.500340  0.489860  0.902413  ...  706  305    1    2  0\n",
              "1      2  0.321128  0.281119  0.907283  0.772159  ...  423  206   18    7  1\n",
              "2      3  0.893441  0.622005  0.998776  0.098386  ...  703  315    1    4  0\n",
              "3      4  0.320641  0.957234  0.346000  0.646479  ...  122  304   15    1  0\n",
              "4      5  0.475961  0.623008  0.544988  0.159709  ...  486  240    1    1  0\n",
              "\n",
              "[5 rows x 24 columns]"
            ]
          },
          "metadata": {
            "tags": []
          },
          "execution_count": 81
        }
      ]
    },
    {
      "cell_type": "code",
      "metadata": {
        "id": "QdXJet0bRdrD",
        "colab_type": "code",
        "colab": {}
      },
      "source": [
        "X_train.drop(['Index'], axis = 1,inplace = True)"
      ],
      "execution_count": 82,
      "outputs": []
    },
    {
      "cell_type": "code",
      "metadata": {
        "id": "rbz7F4GtSGN9",
        "colab_type": "code",
        "colab": {
          "base_uri": "https://localhost:8080/",
          "height": 226
        },
        "outputId": "4f44805f-c0a7-463f-9cd1-e4618b80ac73"
      },
      "source": [
        "X_train.head()"
      ],
      "execution_count": 83,
      "outputs": [
        {
          "output_type": "execute_result",
          "data": {
            "text/html": [
              "<div>\n",
              "<style scoped>\n",
              "    .dataframe tbody tr th:only-of-type {\n",
              "        vertical-align: middle;\n",
              "    }\n",
              "\n",
              "    .dataframe tbody tr th {\n",
              "        vertical-align: top;\n",
              "    }\n",
              "\n",
              "    .dataframe thead th {\n",
              "        text-align: right;\n",
              "    }\n",
              "</style>\n",
              "<table border=\"1\" class=\"dataframe\">\n",
              "  <thead>\n",
              "    <tr style=\"text-align: right;\">\n",
              "      <th></th>\n",
              "      <th>F1</th>\n",
              "      <th>F2</th>\n",
              "      <th>F3</th>\n",
              "      <th>F4</th>\n",
              "      <th>F5</th>\n",
              "      <th>F6</th>\n",
              "      <th>F7</th>\n",
              "      <th>F8</th>\n",
              "      <th>F9</th>\n",
              "      <th>F10</th>\n",
              "      <th>F11</th>\n",
              "      <th>F12</th>\n",
              "      <th>F13</th>\n",
              "      <th>F14</th>\n",
              "      <th>F15</th>\n",
              "      <th>F16</th>\n",
              "      <th>F17</th>\n",
              "      <th>F18</th>\n",
              "      <th>F19</th>\n",
              "      <th>F20</th>\n",
              "      <th>F21</th>\n",
              "      <th>F22</th>\n",
              "      <th>C</th>\n",
              "    </tr>\n",
              "  </thead>\n",
              "  <tbody>\n",
              "    <tr>\n",
              "      <th>0</th>\n",
              "      <td>0.224506</td>\n",
              "      <td>0.500340</td>\n",
              "      <td>0.489860</td>\n",
              "      <td>0.902413</td>\n",
              "      <td>7934</td>\n",
              "      <td>-6970</td>\n",
              "      <td>-5714</td>\n",
              "      <td>9982</td>\n",
              "      <td>-5697</td>\n",
              "      <td>4227810299</td>\n",
              "      <td>-3918676258</td>\n",
              "      <td>316195953</td>\n",
              "      <td>6176861823</td>\n",
              "      <td>-3433637453</td>\n",
              "      <td>10/4/1986</td>\n",
              "      <td>9/6/1992</td>\n",
              "      <td>2</td>\n",
              "      <td>1</td>\n",
              "      <td>706</td>\n",
              "      <td>305</td>\n",
              "      <td>1</td>\n",
              "      <td>2</td>\n",
              "      <td>0</td>\n",
              "    </tr>\n",
              "    <tr>\n",
              "      <th>1</th>\n",
              "      <td>0.321128</td>\n",
              "      <td>0.281119</td>\n",
              "      <td>0.907283</td>\n",
              "      <td>0.772159</td>\n",
              "      <td>-8238</td>\n",
              "      <td>1219</td>\n",
              "      <td>1663</td>\n",
              "      <td>1287</td>\n",
              "      <td>-3658</td>\n",
              "      <td>-1146724819</td>\n",
              "      <td>-6837090439</td>\n",
              "      <td>1378635942</td>\n",
              "      <td>-9031507610</td>\n",
              "      <td>609277486</td>\n",
              "      <td>2/24/1979</td>\n",
              "      <td>1/5/1983</td>\n",
              "      <td>1</td>\n",
              "      <td>1</td>\n",
              "      <td>423</td>\n",
              "      <td>206</td>\n",
              "      <td>18</td>\n",
              "      <td>7</td>\n",
              "      <td>1</td>\n",
              "    </tr>\n",
              "    <tr>\n",
              "      <th>2</th>\n",
              "      <td>0.893441</td>\n",
              "      <td>0.622005</td>\n",
              "      <td>0.998776</td>\n",
              "      <td>0.098386</td>\n",
              "      <td>8540</td>\n",
              "      <td>5266</td>\n",
              "      <td>-9377</td>\n",
              "      <td>-3504</td>\n",
              "      <td>-4511</td>\n",
              "      <td>5947184989</td>\n",
              "      <td>6881163164</td>\n",
              "      <td>-9921889287</td>\n",
              "      <td>-5610051842</td>\n",
              "      <td>-8977995005</td>\n",
              "      <td>1/12/1989</td>\n",
              "      <td>11/22/1986</td>\n",
              "      <td>2</td>\n",
              "      <td>1</td>\n",
              "      <td>703</td>\n",
              "      <td>315</td>\n",
              "      <td>1</td>\n",
              "      <td>4</td>\n",
              "      <td>0</td>\n",
              "    </tr>\n",
              "    <tr>\n",
              "      <th>3</th>\n",
              "      <td>0.320641</td>\n",
              "      <td>0.957234</td>\n",
              "      <td>0.346000</td>\n",
              "      <td>0.646479</td>\n",
              "      <td>-7772</td>\n",
              "      <td>-383</td>\n",
              "      <td>9681</td>\n",
              "      <td>-8661</td>\n",
              "      <td>3474</td>\n",
              "      <td>-5724795826</td>\n",
              "      <td>-6014104498</td>\n",
              "      <td>6550322883</td>\n",
              "      <td>-4697085930</td>\n",
              "      <td>4868760308</td>\n",
              "      <td>2/18/1982</td>\n",
              "      <td>6/10/1992</td>\n",
              "      <td>1</td>\n",
              "      <td>1</td>\n",
              "      <td>122</td>\n",
              "      <td>304</td>\n",
              "      <td>15</td>\n",
              "      <td>1</td>\n",
              "      <td>0</td>\n",
              "    </tr>\n",
              "    <tr>\n",
              "      <th>4</th>\n",
              "      <td>0.475961</td>\n",
              "      <td>0.623008</td>\n",
              "      <td>0.544988</td>\n",
              "      <td>0.159709</td>\n",
              "      <td>1571</td>\n",
              "      <td>-8039</td>\n",
              "      <td>-7961</td>\n",
              "      <td>-2385</td>\n",
              "      <td>4407</td>\n",
              "      <td>-3097637172</td>\n",
              "      <td>-9755731483</td>\n",
              "      <td>759031103</td>\n",
              "      <td>9984692447</td>\n",
              "      <td>9757408267</td>\n",
              "      <td>4/10/1987</td>\n",
              "      <td>10/19/1985</td>\n",
              "      <td>1</td>\n",
              "      <td>1</td>\n",
              "      <td>486</td>\n",
              "      <td>240</td>\n",
              "      <td>1</td>\n",
              "      <td>1</td>\n",
              "      <td>0</td>\n",
              "    </tr>\n",
              "  </tbody>\n",
              "</table>\n",
              "</div>"
            ],
            "text/plain": [
              "         F1        F2        F3        F4    F5  ...  F19  F20  F21  F22  C\n",
              "0  0.224506  0.500340  0.489860  0.902413  7934  ...  706  305    1    2  0\n",
              "1  0.321128  0.281119  0.907283  0.772159 -8238  ...  423  206   18    7  1\n",
              "2  0.893441  0.622005  0.998776  0.098386  8540  ...  703  315    1    4  0\n",
              "3  0.320641  0.957234  0.346000  0.646479 -7772  ...  122  304   15    1  0\n",
              "4  0.475961  0.623008  0.544988  0.159709  1571  ...  486  240    1    1  0\n",
              "\n",
              "[5 rows x 23 columns]"
            ]
          },
          "metadata": {
            "tags": []
          },
          "execution_count": 83
        }
      ]
    },
    {
      "cell_type": "code",
      "metadata": {
        "id": "xh0idtHISPY1",
        "colab_type": "code",
        "colab": {}
      },
      "source": [
        "#since no information is given about the columns so i asssume that columns having dates are irrelevant to the  prediction."
      ],
      "execution_count": 84,
      "outputs": []
    },
    {
      "cell_type": "code",
      "metadata": {
        "id": "0DK2VYYsTdvl",
        "colab_type": "code",
        "colab": {}
      },
      "source": [
        "X_train.drop(['F15','F16'], axis = 1,inplace = True)"
      ],
      "execution_count": 85,
      "outputs": []
    },
    {
      "cell_type": "code",
      "metadata": {
        "id": "xzH1kslbTlD-",
        "colab_type": "code",
        "colab": {
          "base_uri": "https://localhost:8080/",
          "height": 421
        },
        "outputId": "483e4b15-1c50-42a6-fbe4-8305f504a486"
      },
      "source": [
        "#checking NULL\n",
        "X_train.isna().sum()"
      ],
      "execution_count": 86,
      "outputs": [
        {
          "output_type": "execute_result",
          "data": {
            "text/plain": [
              "F1     0\n",
              "F2     0\n",
              "F3     0\n",
              "F4     0\n",
              "F5     0\n",
              "F6     0\n",
              "F7     0\n",
              "F8     0\n",
              "F9     0\n",
              "F10    0\n",
              "F11    0\n",
              "F12    0\n",
              "F13    0\n",
              "F14    0\n",
              "F17    0\n",
              "F18    0\n",
              "F19    0\n",
              "F20    0\n",
              "F21    0\n",
              "F22    0\n",
              "C      0\n",
              "dtype: int64"
            ]
          },
          "metadata": {
            "tags": []
          },
          "execution_count": 86
        }
      ]
    },
    {
      "cell_type": "code",
      "metadata": {
        "id": "vK1Y2PlyTzq2",
        "colab_type": "code",
        "colab": {}
      },
      "source": [
        "X = X_train.drop('C', axis = 1)\n",
        "Y = X_train['C'].copy()"
      ],
      "execution_count": 87,
      "outputs": []
    },
    {
      "cell_type": "code",
      "metadata": {
        "id": "2YIfJjdtUPb4",
        "colab_type": "code",
        "colab": {
          "base_uri": "https://localhost:8080/",
          "height": 226
        },
        "outputId": "8f00f085-7e5a-47e3-8aae-9f8d373e4c36"
      },
      "source": [
        "X.head()"
      ],
      "execution_count": 88,
      "outputs": [
        {
          "output_type": "execute_result",
          "data": {
            "text/html": [
              "<div>\n",
              "<style scoped>\n",
              "    .dataframe tbody tr th:only-of-type {\n",
              "        vertical-align: middle;\n",
              "    }\n",
              "\n",
              "    .dataframe tbody tr th {\n",
              "        vertical-align: top;\n",
              "    }\n",
              "\n",
              "    .dataframe thead th {\n",
              "        text-align: right;\n",
              "    }\n",
              "</style>\n",
              "<table border=\"1\" class=\"dataframe\">\n",
              "  <thead>\n",
              "    <tr style=\"text-align: right;\">\n",
              "      <th></th>\n",
              "      <th>F1</th>\n",
              "      <th>F2</th>\n",
              "      <th>F3</th>\n",
              "      <th>F4</th>\n",
              "      <th>F5</th>\n",
              "      <th>F6</th>\n",
              "      <th>F7</th>\n",
              "      <th>F8</th>\n",
              "      <th>F9</th>\n",
              "      <th>F10</th>\n",
              "      <th>F11</th>\n",
              "      <th>F12</th>\n",
              "      <th>F13</th>\n",
              "      <th>F14</th>\n",
              "      <th>F17</th>\n",
              "      <th>F18</th>\n",
              "      <th>F19</th>\n",
              "      <th>F20</th>\n",
              "      <th>F21</th>\n",
              "      <th>F22</th>\n",
              "    </tr>\n",
              "  </thead>\n",
              "  <tbody>\n",
              "    <tr>\n",
              "      <th>0</th>\n",
              "      <td>0.224506</td>\n",
              "      <td>0.500340</td>\n",
              "      <td>0.489860</td>\n",
              "      <td>0.902413</td>\n",
              "      <td>7934</td>\n",
              "      <td>-6970</td>\n",
              "      <td>-5714</td>\n",
              "      <td>9982</td>\n",
              "      <td>-5697</td>\n",
              "      <td>4227810299</td>\n",
              "      <td>-3918676258</td>\n",
              "      <td>316195953</td>\n",
              "      <td>6176861823</td>\n",
              "      <td>-3433637453</td>\n",
              "      <td>2</td>\n",
              "      <td>1</td>\n",
              "      <td>706</td>\n",
              "      <td>305</td>\n",
              "      <td>1</td>\n",
              "      <td>2</td>\n",
              "    </tr>\n",
              "    <tr>\n",
              "      <th>1</th>\n",
              "      <td>0.321128</td>\n",
              "      <td>0.281119</td>\n",
              "      <td>0.907283</td>\n",
              "      <td>0.772159</td>\n",
              "      <td>-8238</td>\n",
              "      <td>1219</td>\n",
              "      <td>1663</td>\n",
              "      <td>1287</td>\n",
              "      <td>-3658</td>\n",
              "      <td>-1146724819</td>\n",
              "      <td>-6837090439</td>\n",
              "      <td>1378635942</td>\n",
              "      <td>-9031507610</td>\n",
              "      <td>609277486</td>\n",
              "      <td>1</td>\n",
              "      <td>1</td>\n",
              "      <td>423</td>\n",
              "      <td>206</td>\n",
              "      <td>18</td>\n",
              "      <td>7</td>\n",
              "    </tr>\n",
              "    <tr>\n",
              "      <th>2</th>\n",
              "      <td>0.893441</td>\n",
              "      <td>0.622005</td>\n",
              "      <td>0.998776</td>\n",
              "      <td>0.098386</td>\n",
              "      <td>8540</td>\n",
              "      <td>5266</td>\n",
              "      <td>-9377</td>\n",
              "      <td>-3504</td>\n",
              "      <td>-4511</td>\n",
              "      <td>5947184989</td>\n",
              "      <td>6881163164</td>\n",
              "      <td>-9921889287</td>\n",
              "      <td>-5610051842</td>\n",
              "      <td>-8977995005</td>\n",
              "      <td>2</td>\n",
              "      <td>1</td>\n",
              "      <td>703</td>\n",
              "      <td>315</td>\n",
              "      <td>1</td>\n",
              "      <td>4</td>\n",
              "    </tr>\n",
              "    <tr>\n",
              "      <th>3</th>\n",
              "      <td>0.320641</td>\n",
              "      <td>0.957234</td>\n",
              "      <td>0.346000</td>\n",
              "      <td>0.646479</td>\n",
              "      <td>-7772</td>\n",
              "      <td>-383</td>\n",
              "      <td>9681</td>\n",
              "      <td>-8661</td>\n",
              "      <td>3474</td>\n",
              "      <td>-5724795826</td>\n",
              "      <td>-6014104498</td>\n",
              "      <td>6550322883</td>\n",
              "      <td>-4697085930</td>\n",
              "      <td>4868760308</td>\n",
              "      <td>1</td>\n",
              "      <td>1</td>\n",
              "      <td>122</td>\n",
              "      <td>304</td>\n",
              "      <td>15</td>\n",
              "      <td>1</td>\n",
              "    </tr>\n",
              "    <tr>\n",
              "      <th>4</th>\n",
              "      <td>0.475961</td>\n",
              "      <td>0.623008</td>\n",
              "      <td>0.544988</td>\n",
              "      <td>0.159709</td>\n",
              "      <td>1571</td>\n",
              "      <td>-8039</td>\n",
              "      <td>-7961</td>\n",
              "      <td>-2385</td>\n",
              "      <td>4407</td>\n",
              "      <td>-3097637172</td>\n",
              "      <td>-9755731483</td>\n",
              "      <td>759031103</td>\n",
              "      <td>9984692447</td>\n",
              "      <td>9757408267</td>\n",
              "      <td>1</td>\n",
              "      <td>1</td>\n",
              "      <td>486</td>\n",
              "      <td>240</td>\n",
              "      <td>1</td>\n",
              "      <td>1</td>\n",
              "    </tr>\n",
              "  </tbody>\n",
              "</table>\n",
              "</div>"
            ],
            "text/plain": [
              "         F1        F2        F3        F4    F5  ...  F18  F19  F20  F21  F22\n",
              "0  0.224506  0.500340  0.489860  0.902413  7934  ...    1  706  305    1    2\n",
              "1  0.321128  0.281119  0.907283  0.772159 -8238  ...    1  423  206   18    7\n",
              "2  0.893441  0.622005  0.998776  0.098386  8540  ...    1  703  315    1    4\n",
              "3  0.320641  0.957234  0.346000  0.646479 -7772  ...    1  122  304   15    1\n",
              "4  0.475961  0.623008  0.544988  0.159709  1571  ...    1  486  240    1    1\n",
              "\n",
              "[5 rows x 20 columns]"
            ]
          },
          "metadata": {
            "tags": []
          },
          "execution_count": 88
        }
      ]
    },
    {
      "cell_type": "code",
      "metadata": {
        "id": "1qMlkTmZUYXj",
        "colab_type": "code",
        "colab": {
          "base_uri": "https://localhost:8080/",
          "height": 127
        },
        "outputId": "ea67a3fe-32b8-4909-ab00-d718b9f00872"
      },
      "source": [
        "Y.head()"
      ],
      "execution_count": 89,
      "outputs": [
        {
          "output_type": "execute_result",
          "data": {
            "text/plain": [
              "0    0\n",
              "1    1\n",
              "2    0\n",
              "3    0\n",
              "4    0\n",
              "Name: C, dtype: int64"
            ]
          },
          "metadata": {
            "tags": []
          },
          "execution_count": 89
        }
      ]
    },
    {
      "cell_type": "markdown",
      "metadata": {
        "id": "N3xtEMbfUkF7",
        "colab_type": "text"
      },
      "source": [
        "**Checking for Collinearity Between Features and Creating Reducing Feature Size**"
      ]
    },
    {
      "cell_type": "code",
      "metadata": {
        "id": "aRIw3rkQHwKr",
        "colab_type": "code",
        "colab": {}
      },
      "source": [
        "corr_matrix = X.corr().abs()"
      ],
      "execution_count": 90,
      "outputs": []
    },
    {
      "cell_type": "code",
      "metadata": {
        "id": "zw7dC0QIUb7h",
        "colab_type": "code",
        "colab": {
          "base_uri": "https://localhost:8080/",
          "height": 226
        },
        "outputId": "37c40376-99fa-4180-83c7-8396227901e5"
      },
      "source": [
        "corr_matrix.head()"
      ],
      "execution_count": 91,
      "outputs": [
        {
          "output_type": "execute_result",
          "data": {
            "text/html": [
              "<div>\n",
              "<style scoped>\n",
              "    .dataframe tbody tr th:only-of-type {\n",
              "        vertical-align: middle;\n",
              "    }\n",
              "\n",
              "    .dataframe tbody tr th {\n",
              "        vertical-align: top;\n",
              "    }\n",
              "\n",
              "    .dataframe thead th {\n",
              "        text-align: right;\n",
              "    }\n",
              "</style>\n",
              "<table border=\"1\" class=\"dataframe\">\n",
              "  <thead>\n",
              "    <tr style=\"text-align: right;\">\n",
              "      <th></th>\n",
              "      <th>F1</th>\n",
              "      <th>F2</th>\n",
              "      <th>F3</th>\n",
              "      <th>F4</th>\n",
              "      <th>F5</th>\n",
              "      <th>F6</th>\n",
              "      <th>F7</th>\n",
              "      <th>F8</th>\n",
              "      <th>F9</th>\n",
              "      <th>F10</th>\n",
              "      <th>F11</th>\n",
              "      <th>F12</th>\n",
              "      <th>F13</th>\n",
              "      <th>F14</th>\n",
              "      <th>F17</th>\n",
              "      <th>F18</th>\n",
              "      <th>F19</th>\n",
              "      <th>F20</th>\n",
              "      <th>F21</th>\n",
              "      <th>F22</th>\n",
              "    </tr>\n",
              "  </thead>\n",
              "  <tbody>\n",
              "    <tr>\n",
              "      <th>F1</th>\n",
              "      <td>1.000000</td>\n",
              "      <td>0.004133</td>\n",
              "      <td>0.000362</td>\n",
              "      <td>0.000068</td>\n",
              "      <td>0.002246</td>\n",
              "      <td>0.004772</td>\n",
              "      <td>0.002282</td>\n",
              "      <td>0.004885</td>\n",
              "      <td>0.003566</td>\n",
              "      <td>0.000542</td>\n",
              "      <td>0.000370</td>\n",
              "      <td>0.000173</td>\n",
              "      <td>0.001954</td>\n",
              "      <td>0.000280</td>\n",
              "      <td>0.002261</td>\n",
              "      <td>0.000322</td>\n",
              "      <td>0.005119</td>\n",
              "      <td>0.000737</td>\n",
              "      <td>0.003524</td>\n",
              "      <td>0.001905</td>\n",
              "    </tr>\n",
              "    <tr>\n",
              "      <th>F2</th>\n",
              "      <td>0.004133</td>\n",
              "      <td>1.000000</td>\n",
              "      <td>0.002162</td>\n",
              "      <td>0.002540</td>\n",
              "      <td>0.000784</td>\n",
              "      <td>0.001918</td>\n",
              "      <td>0.007180</td>\n",
              "      <td>0.001264</td>\n",
              "      <td>0.001359</td>\n",
              "      <td>0.003328</td>\n",
              "      <td>0.003369</td>\n",
              "      <td>0.000495</td>\n",
              "      <td>0.000195</td>\n",
              "      <td>0.003321</td>\n",
              "      <td>0.003455</td>\n",
              "      <td>0.000010</td>\n",
              "      <td>0.000049</td>\n",
              "      <td>0.003102</td>\n",
              "      <td>0.000882</td>\n",
              "      <td>0.000089</td>\n",
              "    </tr>\n",
              "    <tr>\n",
              "      <th>F3</th>\n",
              "      <td>0.000362</td>\n",
              "      <td>0.002162</td>\n",
              "      <td>1.000000</td>\n",
              "      <td>0.001951</td>\n",
              "      <td>0.004431</td>\n",
              "      <td>0.003048</td>\n",
              "      <td>0.002919</td>\n",
              "      <td>0.002998</td>\n",
              "      <td>0.000022</td>\n",
              "      <td>0.000009</td>\n",
              "      <td>0.000893</td>\n",
              "      <td>0.001373</td>\n",
              "      <td>0.002150</td>\n",
              "      <td>0.002402</td>\n",
              "      <td>0.000770</td>\n",
              "      <td>0.003763</td>\n",
              "      <td>0.001752</td>\n",
              "      <td>0.001445</td>\n",
              "      <td>0.000393</td>\n",
              "      <td>0.001722</td>\n",
              "    </tr>\n",
              "    <tr>\n",
              "      <th>F4</th>\n",
              "      <td>0.000068</td>\n",
              "      <td>0.002540</td>\n",
              "      <td>0.001951</td>\n",
              "      <td>1.000000</td>\n",
              "      <td>0.001021</td>\n",
              "      <td>0.002239</td>\n",
              "      <td>0.002765</td>\n",
              "      <td>0.003080</td>\n",
              "      <td>0.000362</td>\n",
              "      <td>0.001897</td>\n",
              "      <td>0.003646</td>\n",
              "      <td>0.005809</td>\n",
              "      <td>0.001284</td>\n",
              "      <td>0.001984</td>\n",
              "      <td>0.006168</td>\n",
              "      <td>0.004088</td>\n",
              "      <td>0.002143</td>\n",
              "      <td>0.002606</td>\n",
              "      <td>0.002783</td>\n",
              "      <td>0.002746</td>\n",
              "    </tr>\n",
              "    <tr>\n",
              "      <th>F5</th>\n",
              "      <td>0.002246</td>\n",
              "      <td>0.000784</td>\n",
              "      <td>0.004431</td>\n",
              "      <td>0.001021</td>\n",
              "      <td>1.000000</td>\n",
              "      <td>0.001416</td>\n",
              "      <td>0.001278</td>\n",
              "      <td>0.002407</td>\n",
              "      <td>0.001892</td>\n",
              "      <td>0.001449</td>\n",
              "      <td>0.000282</td>\n",
              "      <td>0.001567</td>\n",
              "      <td>0.001665</td>\n",
              "      <td>0.001270</td>\n",
              "      <td>0.001536</td>\n",
              "      <td>0.006480</td>\n",
              "      <td>0.000906</td>\n",
              "      <td>0.003904</td>\n",
              "      <td>0.006321</td>\n",
              "      <td>0.000606</td>\n",
              "    </tr>\n",
              "  </tbody>\n",
              "</table>\n",
              "</div>"
            ],
            "text/plain": [
              "          F1        F2        F3  ...       F20       F21       F22\n",
              "F1  1.000000  0.004133  0.000362  ...  0.000737  0.003524  0.001905\n",
              "F2  0.004133  1.000000  0.002162  ...  0.003102  0.000882  0.000089\n",
              "F3  0.000362  0.002162  1.000000  ...  0.001445  0.000393  0.001722\n",
              "F4  0.000068  0.002540  0.001951  ...  0.002606  0.002783  0.002746\n",
              "F5  0.002246  0.000784  0.004431  ...  0.003904  0.006321  0.000606\n",
              "\n",
              "[5 rows x 20 columns]"
            ]
          },
          "metadata": {
            "tags": []
          },
          "execution_count": 91
        }
      ]
    },
    {
      "cell_type": "code",
      "metadata": {
        "id": "49PlWH0vGWpg",
        "colab_type": "code",
        "colab": {}
      },
      "source": [
        "#upper triangle of correlation matrix\n",
        "upper = corr_matrix.where(np.triu(np.ones(corr_matrix.shape), k=1).astype(np.bool))"
      ],
      "execution_count": 92,
      "outputs": []
    },
    {
      "cell_type": "code",
      "metadata": {
        "id": "uIbFUmtbGaq9",
        "colab_type": "code",
        "colab": {}
      },
      "source": [
        "# Find index of feature columns with correlation greater than 0.6\n",
        "to_drop = [column for column in upper.columns if any(upper[column] > 0.6)]"
      ],
      "execution_count": 93,
      "outputs": []
    },
    {
      "cell_type": "code",
      "metadata": {
        "id": "kEcKOz8SIGjs",
        "colab_type": "code",
        "colab": {
          "base_uri": "https://localhost:8080/",
          "height": 35
        },
        "outputId": "3d539440-782b-4b86-9e7b-6552e8a04d7c"
      },
      "source": [
        "to_drop"
      ],
      "execution_count": 94,
      "outputs": [
        {
          "output_type": "execute_result",
          "data": {
            "text/plain": [
              "['F19', 'F20']"
            ]
          },
          "metadata": {
            "tags": []
          },
          "execution_count": 94
        }
      ]
    },
    {
      "cell_type": "code",
      "metadata": {
        "id": "-XegB0-CUqLx",
        "colab_type": "code",
        "colab": {
          "base_uri": "https://localhost:8080/",
          "height": 296
        },
        "outputId": "13749904-a039-45ec-9286-485a5c45b9c5"
      },
      "source": [
        "sns.heatmap(corr_matrix, xticklabels=corr_matrix.columns,yticklabels=corr_matrix.columns)"
      ],
      "execution_count": 95,
      "outputs": [
        {
          "output_type": "execute_result",
          "data": {
            "text/plain": [
              "<matplotlib.axes._subplots.AxesSubplot at 0x7f9c8f493f60>"
            ]
          },
          "metadata": {
            "tags": []
          },
          "execution_count": 95
        },
        {
          "output_type": "display_data",
          "data": {
            "image/png": "[encoded data removed]",
            "text/plain": [
              "<Figure size 432x288 with 2 Axes>"
            ]
          },
          "metadata": {
            "tags": [],
            "needs_background": "light"
          }
        }
      ]
    },
    {
      "cell_type": "code",
      "metadata": {
        "id": "JnHvNY5XIUGZ",
        "colab_type": "code",
        "colab": {}
      },
      "source": [
        "#Independent highly corelated variables.\n",
        "X = X.drop(columns = to_drop)"
      ],
      "execution_count": 96,
      "outputs": []
    },
    {
      "cell_type": "code",
      "metadata": {
        "id": "nDXTRKGRUt-W",
        "colab_type": "code",
        "colab": {
          "base_uri": "https://localhost:8080/",
          "height": 35
        },
        "outputId": "447441b1-9291-42c4-c2ee-289e8b5efa5a"
      },
      "source": [
        "X.shape"
      ],
      "execution_count": 97,
      "outputs": [
        {
          "output_type": "execute_result",
          "data": {
            "text/plain": [
              "(101180, 18)"
            ]
          },
          "metadata": {
            "tags": []
          },
          "execution_count": 97
        }
      ]
    },
    {
      "cell_type": "code",
      "metadata": {
        "id": "oJ7n7uJrW3qY",
        "colab_type": "code",
        "colab": {
          "base_uri": "https://localhost:8080/",
          "height": 1000
        },
        "outputId": "53b62cf9-0737-4a78-e641-9dc51dd9e9a1"
      },
      "source": [
        "# Histogram of all features\n",
        "for idx,column in enumerate(X.columns): \n",
        "    plt.figure(idx)\n",
        "    X.hist(column=column,grid=False)"
      ],
      "execution_count": 98,
      "outputs": [
        {
          "output_type": "display_data",
          "data": {
            "text/plain": [
              "<Figure size 432x288 with 0 Axes>"
            ]
          },
          "metadata": {
            "tags": []
          }
        },
        {
          "output_type": "display_data",
          "data": {
            "image/png": "[encoded data removed]",
            "text/plain": [
              "<Figure size 432x288 with 1 Axes>"
            ]
          },
          "metadata": {
            "tags": [],
            "needs_background": "light"
          }
        },
        {
          "output_type": "display_data",
          "data": {
            "image/png": "[encoded data removed]",
            "text/plain": [
              "<Figure size 432x288 with 1 Axes>"
            ]
          },
          "metadata": {
            "tags": [],
            "needs_background": "light"
          }
        },
        {
          "output_type": "display_data",
          "data": {
            "image/png": "[encoded data removed]",
            "text/plain": [
              "<Figure size 432x288 with 1 Axes>"
            ]
          },
          "metadata": {
            "tags": [],
            "needs_background": "light"
          }
        },
        {
          "output_type": "display_data",
          "data": {
            "image/png": "[encoded data removed]",
            "text/plain": [
              "<Figure size 432x288 with 1 Axes>"
            ]
          },
          "metadata": {
            "tags": [],
            "needs_background": "light"
          }
        },
        {
          "output_type": "display_data",
          "data": {
            "image/png": "[encoded data removed]",
            "text/plain": [
              "<Figure size 432x288 with 1 Axes>"
            ]
          },
          "metadata": {
            "tags": [],
            "needs_background": "light"
          }
        },
        {
          "output_type": "display_data",
          "data": {
            "image/png": "[encoded data removed]",
            "text/plain": [
              "<Figure size 432x288 with 1 Axes>"
            ]
          },
          "metadata": {
            "tags": [],
            "needs_background": "light"
          }
        },
        {
          "output_type": "display_data",
          "data": {
            "image/png": "[encoded data removed]",
            "text/plain": [
              "<Figure size 432x288 with 1 Axes>"
            ]
          },
          "metadata": {
            "tags": [],
            "needs_background": "light"
          }
        },
        {
          "output_type": "display_data",
          "data": {
            "image/png": "[encoded data removed]",
            "text/plain": [
              "<Figure size 432x288 with 1 Axes>"
            ]
          },
          "metadata": {
            "tags": [],
            "needs_background": "light"
          }
        },
        {
          "output_type": "display_data",
          "data": {
            "image/png": "[encoded data removed]",
            "text/plain": [
              "<Figure size 432x288 with 1 Axes>"
            ]
          },
          "metadata": {
            "tags": [],
            "needs_background": "light"
          }
        },
        {
          "output_type": "display_data",
          "data": {
            "image/png": "[encoded data removed]",
            "text/plain": [
              "<Figure size 432x288 with 1 Axes>"
            ]
          },
          "metadata": {
            "tags": [],
            "needs_background": "light"
          }
        },
        {
          "output_type": "display_data",
          "data": {
            "image/png": "[encoded data removed]",
            "text/plain": [
              "<Figure size 432x288 with 1 Axes>"
            ]
          },
          "metadata": {
            "tags": [],
            "needs_background": "light"
          }
        },
        {
          "output_type": "display_data",
          "data": {
            "image/png": "[encoded data removed]",
            "text/plain": [
              "<Figure size 432x288 with 1 Axes>"
            ]
          },
          "metadata": {
            "tags": [],
            "needs_background": "light"
          }
        },
        {
          "output_type": "display_data",
          "data": {
            "image/png": "[encoded data removed]",
            "text/plain": [
              "<Figure size 432x288 with 1 Axes>"
            ]
          },
          "metadata": {
            "tags": [],
            "needs_background": "light"
          }
        },
        {
          "output_type": "display_data",
          "data": {
            "image/png": "[encoded data removed]",
            "text/plain": [
              "<Figure size 432x288 with 1 Axes>"
            ]
          },
          "metadata": {
            "tags": [],
            "needs_background": "light"
          }
        },
        {
          "output_type": "display_data",
          "data": {
            "image/png": "[encoded data removed]",
            "text/plain": [
              "<Figure size 432x288 with 1 Axes>"
            ]
          },
          "metadata": {
            "tags": [],
            "needs_background": "light"
          }
        },
        {
          "output_type": "display_data",
          "data": {
            "image/png": "[encoded data removed]",
            "text/plain": [
              "<Figure size 432x288 with 1 Axes>"
            ]
          },
          "metadata": {
            "tags": [],
            "needs_background": "light"
          }
        },
        {
          "output_type": "display_data",
          "data": {
            "image/png": "[encoded data removed]",
            "text/plain": [
              "<Figure size 432x288 with 1 Axes>"
            ]
          },
          "metadata": {
            "tags": [],
            "needs_background": "light"
          }
        },
        {
          "output_type": "display_data",
          "data": {
            "image/png": "[encoded data removed]",
            "text/plain": [
              "<Figure size 432x288 with 1 Axes>"
            ]
          },
          "metadata": {
            "tags": [],
            "needs_background": "light"
          }
        }
      ]
    },
    {
      "cell_type": "code",
      "metadata": {
        "id": "F4LVUyP2W4ca",
        "colab_type": "code",
        "colab": {
          "base_uri": "https://localhost:8080/",
          "height": 678
        },
        "outputId": "dfbc21c9-1a03-4b6d-f4ef-2425b5ff6d0e"
      },
      "source": [
        "# Checking for NA values\n",
        "for i in X.columns:\n",
        "    print('Feature:',i)\n",
        "    print('# of N/A:',X[i].isna().sum())"
      ],
      "execution_count": 99,
      "outputs": [
        {
          "output_type": "stream",
          "text": [
            "Feature: F1\n",
            "# of N/A: 0\n",
            "Feature: F2\n",
            "# of N/A: 0\n",
            "Feature: F3\n",
            "# of N/A: 0\n",
            "Feature: F4\n",
            "# of N/A: 0\n",
            "Feature: F5\n",
            "# of N/A: 0\n",
            "Feature: F6\n",
            "# of N/A: 0\n",
            "Feature: F7\n",
            "# of N/A: 0\n",
            "Feature: F8\n",
            "# of N/A: 0\n",
            "Feature: F9\n",
            "# of N/A: 0\n",
            "Feature: F10\n",
            "# of N/A: 0\n",
            "Feature: F11\n",
            "# of N/A: 0\n",
            "Feature: F12\n",
            "# of N/A: 0\n",
            "Feature: F13\n",
            "# of N/A: 0\n",
            "Feature: F14\n",
            "# of N/A: 0\n",
            "Feature: F17\n",
            "# of N/A: 0\n",
            "Feature: F18\n",
            "# of N/A: 0\n",
            "Feature: F21\n",
            "# of N/A: 0\n",
            "Feature: F22\n",
            "# of N/A: 0\n"
          ],
          "name": "stdout"
        }
      ]
    },
    {
      "cell_type": "code",
      "metadata": {
        "id": "8OqvAQXbXDZg",
        "colab_type": "code",
        "colab": {
          "base_uri": "https://localhost:8080/",
          "height": 1000
        },
        "outputId": "442e9e4a-eb2b-400d-a342-000587ec333c"
      },
      "source": [
        "#Checking Unique values in each columns\n",
        "for i in X_train.columns:\n",
        "    print('####################')\n",
        "    print('COLUMN TITLE:',i)\n",
        "    print('# UNIQUE VALUES:',len(X_train[i].unique()))\n",
        "    print('UNIQUE VALUES:',X_train[i].unique())\n",
        "    print('####################')\n",
        "    print()"
      ],
      "execution_count": 100,
      "outputs": [
        {
          "output_type": "stream",
          "text": [
            "####################\n",
            "COLUMN TITLE: F1\n",
            "# UNIQUE VALUES: 101176\n",
            "UNIQUE VALUES: [0.22450589 0.32112831 0.89344077 ... 0.90913683 0.90149544 0.86851935]\n",
            "####################\n",
            "\n",
            "####################\n",
            "COLUMN TITLE: F2\n",
            "# UNIQUE VALUES: 101169\n",
            "UNIQUE VALUES: [0.50033982 0.28111875 0.62200544 ... 0.52186917 0.54620298 0.18758067]\n",
            "####################\n",
            "\n",
            "####################\n",
            "COLUMN TITLE: F3\n",
            "# UNIQUE VALUES: 101179\n",
            "UNIQUE VALUES: [0.48986028 0.90728298 0.99877582 ... 0.23366712 0.61066321 0.74606355]\n",
            "####################\n",
            "\n",
            "####################\n",
            "COLUMN TITLE: F4\n",
            "# UNIQUE VALUES: 101178\n",
            "UNIQUE VALUES: [0.90241272 0.77215857 0.09838625 ... 0.8794933  0.8051365  0.60888396]\n",
            "####################\n",
            "\n",
            "####################\n",
            "COLUMN TITLE: F5\n",
            "# UNIQUE VALUES: 19876\n",
            "UNIQUE VALUES: [ 7934 -8238  8540 ...   558  5837 -2496]\n",
            "####################\n",
            "\n",
            "####################\n",
            "COLUMN TITLE: F6\n",
            "# UNIQUE VALUES: 19862\n",
            "UNIQUE VALUES: [-6970  1219  5266 ...  5270  4796  6839]\n",
            "####################\n",
            "\n",
            "####################\n",
            "COLUMN TITLE: F7\n",
            "# UNIQUE VALUES: 19865\n",
            "UNIQUE VALUES: [-5714  1663 -9377 ... -1934 -7449  7200]\n",
            "####################\n",
            "\n",
            "####################\n",
            "COLUMN TITLE: F8\n",
            "# UNIQUE VALUES: 19866\n",
            "UNIQUE VALUES: [ 9982  1287 -3504 ... -1708 -1661  7033]\n",
            "####################\n",
            "\n",
            "####################\n",
            "COLUMN TITLE: F9\n",
            "# UNIQUE VALUES: 19887\n",
            "UNIQUE VALUES: [-5697 -3658 -4511 ...  2438   933 -2759]\n",
            "####################\n",
            "\n",
            "####################\n",
            "COLUMN TITLE: F10\n",
            "# UNIQUE VALUES: 101179\n",
            "UNIQUE VALUES: [ 4227810299 -1146724819  5947184989 ...  5230015471   176944084\n",
            " -8835218514]\n",
            "####################\n",
            "\n",
            "####################\n",
            "COLUMN TITLE: F11\n",
            "# UNIQUE VALUES: 101180\n",
            "UNIQUE VALUES: [-3918676258 -6837090439  6881163164 ...  5031031479 -5186208321\n",
            "  7026539219]\n",
            "####################\n",
            "\n",
            "####################\n",
            "COLUMN TITLE: F12\n",
            "# UNIQUE VALUES: 101180\n",
            "UNIQUE VALUES: [  316195953  1378635942 -9921889287 ...  7750015523 -9324308921\n",
            "  1859519357]\n",
            "####################\n",
            "\n",
            "####################\n",
            "COLUMN TITLE: F13\n",
            "# UNIQUE VALUES: 101178\n",
            "UNIQUE VALUES: [ 6176861823 -9031507610 -5610051842 ... -1480708073  5297524389\n",
            " -4530391040]\n",
            "####################\n",
            "\n",
            "####################\n",
            "COLUMN TITLE: F14\n",
            "# UNIQUE VALUES: 101180\n",
            "UNIQUE VALUES: [-3433637453   609277486 -8977995005 ...  5703907465  1988248591\n",
            " -9566000903]\n",
            "####################\n",
            "\n",
            "####################\n",
            "COLUMN TITLE: F17\n",
            "# UNIQUE VALUES: 5\n",
            "UNIQUE VALUES: [2 1 4 6 3]\n",
            "####################\n",
            "\n",
            "####################\n",
            "COLUMN TITLE: F18\n",
            "# UNIQUE VALUES: 5\n",
            "UNIQUE VALUES: [1 2 4 6 3]\n",
            "####################\n",
            "\n",
            "####################\n",
            "COLUMN TITLE: F19\n",
            "# UNIQUE VALUES: 646\n",
            "UNIQUE VALUES: [706 423 703 122 486 806 448 187 701 502 489 587 399 304 512 901 170 708\n",
            " 485 156 472 143 544 319 164 709 226 467 284 411 429 488 192 596  80   2\n",
            " 390 446 500  26 286 526 768 281  14 137 571 291 264 541 704 215 243 305\n",
            " 491 257 582 506 189 228 424 139 451 229 462 466  46 403 515  99 400 324\n",
            " 254 509  36 710 547 707 763 447 810 141   5 330 144 384 341 199 529 765\n",
            "  70 599 214 532 465 755  68 381 511  65 103 372  94 516 147 216 562 188\n",
            " 268 538 438  66 567 222 552  69 282 565   1 288 232 380  93 584 548 208\n",
            "  55 481 263  71 555 534 194 197 114 493 321 468 331 471 705 357 241 113\n",
            " 770  51 344 428 157 374  74 100 107 590 419 131 767 378 455 297 239  16\n",
            "  76 313  42 449 497 464 433  39 527 178 525 366 507 128 461 522  95 413\n",
            " 520 551 440 427 165  81   7  45 585  18 246 802 311 813 389 518 190 702\n",
            " 368 135 531 195 273  56 348 198 484 275 361 118 112 803 303 256 306 283\n",
            " 475 181 406 148 580 168 338 404 349 133 416 450 210 169  24 346 269 251\n",
            " 316 167 177 454 101 326  12 523 333  28 572 247 753  97 218 375 761 814\n",
            " 543 371 401 136 340 437 155 591 444 370 456 245 762 409 217 235 519 327\n",
            " 267 325 342 259 206 752 238  41 498 317 123 270 513 396 108 408 252 158\n",
            "  54 250 385 563 354 276 573 162 392 110 320 537 166 583 150 115 490  19\n",
            " 479 457 600 201 494  62 230 442 289 244 309 359  29 495 271 452  23  67\n",
            " 278 530 588 568  75 394 458 179 362  17  60 116 127 574 129 758 517 277\n",
            "   4 124 504 292 395 432 579  96  85 352 272 367 261 577 120 221 161 209\n",
            " 154 554   9  37  64 236 314 808 426 443 557 279 757 173 387 391 417 769\n",
            " 301  79 473  25 175 334 231 184 355 237 205 339 559 560 203 807 332 183\n",
            " 581 811  40 586 176 445 414 422 151 204 213 435 249  30  10  48 172 398\n",
            " 265 233 159 345 514 402 364 171 225 407 482 570 160  52  78  21 492 539\n",
            "  11 804 521  82 469 358  57 556 373 117 379 240 578 234 350  59 477 212\n",
            " 106  83 307  38 121 566   3 109 503 343 815  90 483 576  31  63 425 760\n",
            " 558 501 296 545 812 104  47 756 412  32 453 360 369 119 569 431 353 191\n",
            "  15 202 219 405 185  34 258 351 223 564 397  61 434  73 553 536  77 293\n",
            " 496  44 145 140 533  35 207 280 295 290 459  92 508  13 764 480 542  72\n",
            " 186   6 220 598 149 125  98 415 595 111 227 809 377 550 182 388 299 540\n",
            " 308 152  86 505 253 410 463 132 146 383 180 439  58  88 329 312  87  27\n",
            " 200 524 470 476 535 593 510 420  50 302 287 376 318  22 248 418 174 285\n",
            "  43 561 528 266 478 134 597 163 337 393 441 126 382 474 754 196 801 260\n",
            " 347 224 592 363 487 365  53 759 300 262 138  33 242  89  49 589 356  20\n",
            " 546 130 328 315 322 153 335 105 274 255 594 805 436  91 323 102 294 751\n",
            " 193 499 298 549   8 421 386 430 142 211 575 460 766  84 336 310]\n",
            "####################\n",
            "\n",
            "####################\n",
            "COLUMN TITLE: F20\n",
            "# UNIQUE VALUES: 646\n",
            "UNIQUE VALUES: [305 206 315 304 240 157 702 123  34 706 145 703 229 194 431 588 311 243\n",
            " 481 356 225 133 532 506 710 559 287 148  37 701  23 464 223   1 187 302\n",
            " 556 514 808 705 704 470  56 469 297 593 407  29 708 300 901 369 217 303\n",
            " 578 499 282 372 102 193 144  80 201 399 279  27 121 230 806 566   7 172\n",
            " 141 524 270 512 107 477  50 442 159 332 416 517 448 418 176 439 128 316\n",
            " 333 440 322 246  38  32 579 196  18 195 288 272  39  71 119  92 403 509\n",
            " 423 359 345 768 709 453 164 171 312 375 426  93 449 546 520 474 707 235\n",
            " 307 582 191  11 422 381 234  98 271 491 565 252 127  87 455 363 540 387\n",
            " 441 468 289 523 251  22 484 101 277 757 756 515 309 199 204  86 349 167\n",
            " 179 574 350 274 541   9 405   8 487  65  74 425 535 210 489 264  89 351\n",
            "  52 465 253  69  75 432 231 379 328 534 437 516 361 192 268 203 561  47\n",
            " 135 346 339 110 139 382   5 296 112 111 326 334 475 168 486 803 301  57\n",
            " 276 755 384 585 245  67 324 362 409 211 352 335 360 388  81 212 182 478\n",
            " 436 285  12 408 563  49  36 371 178 531 318 594 570 553 508 807 140 769\n",
            " 495 358 319  58 528 501 329 573  17 306 149 173 463 445 522 161 420  54\n",
            " 376 456 373 280 551  73  72 291 368 525 364 482 461 444 357 590 337 576\n",
            " 428 537 533 354 762 480 813  97  46  62 314 562 393  45  35 365 348 498\n",
            " 434 575 380 342 130 548 298 589 462 239 479 770 505 390 142 355 458 284\n",
            " 414 459  51 216 560 539 485 446 411 134 257 811 313 424 208  14 370 154\n",
            " 181 132  25  84 317 330 209 242 421 197 294 580 763 156 115 586 113 185\n",
            " 341 815  78 259  40 247 236  59 801 542 406 152 751 510  79 344 518 558\n",
            " 466 120 596 353 347  66  96  30 513 552 244 761 500 543  94  20  43 250\n",
            "  53 136 292  42 150 419 248 146 398  99 435 275  61 812 438 327 417 281\n",
            " 577 215  88 165 572 237 153 597 109 538 249 183  60 497 766 131  55 295\n",
            " 544  44 494 753 401 267 124 254 106 163 160 166  26  15 591 503  13 220\n",
            " 452 325 511 583 802 804 493 550 238 129 473 170  24 400 290 190 492 232\n",
            "  83 430 366 198 269 581 443   2 126 118 336 189 447 147 521 454  90 402\n",
            " 151  33 584 809 476 262  10  82  21 340 549 507 116 263 545 218 224 530\n",
            "  76 367  16 814 175 502 227 389 241 599 186 571 810 378 255  68 260 117\n",
            " 397 256 265 273 471 598 213 504 472 752 394 205 184 396 450 228 413  63\n",
            " 122 404  19 323 595 526 162 805 451 331 412 138 320 385 568  91 557 155\n",
            " 103 180 226 564 433  48 202 343 600 488 395  41   4 554 261 100 188 293\n",
            " 283 490 760 266 457  64 233   3   6 174 104 207 527 758  28 496  85 125\n",
            " 219 169 569 200  77 286 114 467 555 222 177 759 754 374 258 592 321 767\n",
            " 764 383 460 391 278 483 308 338 392 377 567 310 158 410 221 519  31  95\n",
            " 415 765 429 137 386 143 214 108 536 299 105 529 587 547 427  70]\n",
            "####################\n",
            "\n",
            "####################\n",
            "COLUMN TITLE: F21\n",
            "# UNIQUE VALUES: 21\n",
            "UNIQUE VALUES: [ 1 18 15  6  5  3  8  9  4 21  2 11 10 12  7 13 16 14 19 20 17]\n",
            "####################\n",
            "\n",
            "####################\n",
            "COLUMN TITLE: F22\n",
            "# UNIQUE VALUES: 21\n",
            "UNIQUE VALUES: [ 2  7  4  1  5  6  3 11 10  8 21 12 16  9 14 17 19 13 15 20 18]\n",
            "####################\n",
            "\n",
            "####################\n",
            "COLUMN TITLE: C\n",
            "# UNIQUE VALUES: 2\n",
            "UNIQUE VALUES: [0 1]\n",
            "####################\n",
            "\n"
          ],
          "name": "stdout"
        }
      ]
    },
    {
      "cell_type": "code",
      "metadata": {
        "id": "v_eT1rZQjtAg",
        "colab_type": "code",
        "colab": {
          "base_uri": "https://localhost:8080/",
          "height": 444
        },
        "outputId": "f55d1c41-b5c0-443f-9bcf-718878a72230"
      },
      "source": [
        "X"
      ],
      "execution_count": 101,
      "outputs": [
        {
          "output_type": "execute_result",
          "data": {
            "text/html": [
              "<div>\n",
              "<style scoped>\n",
              "    .dataframe tbody tr th:only-of-type {\n",
              "        vertical-align: middle;\n",
              "    }\n",
              "\n",
              "    .dataframe tbody tr th {\n",
              "        vertical-align: top;\n",
              "    }\n",
              "\n",
              "    .dataframe thead th {\n",
              "        text-align: right;\n",
              "    }\n",
              "</style>\n",
              "<table border=\"1\" class=\"dataframe\">\n",
              "  <thead>\n",
              "    <tr style=\"text-align: right;\">\n",
              "      <th></th>\n",
              "      <th>F1</th>\n",
              "      <th>F2</th>\n",
              "      <th>F3</th>\n",
              "      <th>F4</th>\n",
              "      <th>F5</th>\n",
              "      <th>F6</th>\n",
              "      <th>F7</th>\n",
              "      <th>F8</th>\n",
              "      <th>F9</th>\n",
              "      <th>F10</th>\n",
              "      <th>F11</th>\n",
              "      <th>F12</th>\n",
              "      <th>F13</th>\n",
              "      <th>F14</th>\n",
              "      <th>F17</th>\n",
              "      <th>F18</th>\n",
              "      <th>F21</th>\n",
              "      <th>F22</th>\n",
              "    </tr>\n",
              "  </thead>\n",
              "  <tbody>\n",
              "    <tr>\n",
              "      <th>0</th>\n",
              "      <td>0.224506</td>\n",
              "      <td>0.500340</td>\n",
              "      <td>0.489860</td>\n",
              "      <td>0.902413</td>\n",
              "      <td>7934</td>\n",
              "      <td>-6970</td>\n",
              "      <td>-5714</td>\n",
              "      <td>9982</td>\n",
              "      <td>-5697</td>\n",
              "      <td>4227810299</td>\n",
              "      <td>-3918676258</td>\n",
              "      <td>316195953</td>\n",
              "      <td>6176861823</td>\n",
              "      <td>-3433637453</td>\n",
              "      <td>2</td>\n",
              "      <td>1</td>\n",
              "      <td>1</td>\n",
              "      <td>2</td>\n",
              "    </tr>\n",
              "    <tr>\n",
              "      <th>1</th>\n",
              "      <td>0.321128</td>\n",
              "      <td>0.281119</td>\n",
              "      <td>0.907283</td>\n",
              "      <td>0.772159</td>\n",
              "      <td>-8238</td>\n",
              "      <td>1219</td>\n",
              "      <td>1663</td>\n",
              "      <td>1287</td>\n",
              "      <td>-3658</td>\n",
              "      <td>-1146724819</td>\n",
              "      <td>-6837090439</td>\n",
              "      <td>1378635942</td>\n",
              "      <td>-9031507610</td>\n",
              "      <td>609277486</td>\n",
              "      <td>1</td>\n",
              "      <td>1</td>\n",
              "      <td>18</td>\n",
              "      <td>7</td>\n",
              "    </tr>\n",
              "    <tr>\n",
              "      <th>2</th>\n",
              "      <td>0.893441</td>\n",
              "      <td>0.622005</td>\n",
              "      <td>0.998776</td>\n",
              "      <td>0.098386</td>\n",
              "      <td>8540</td>\n",
              "      <td>5266</td>\n",
              "      <td>-9377</td>\n",
              "      <td>-3504</td>\n",
              "      <td>-4511</td>\n",
              "      <td>5947184989</td>\n",
              "      <td>6881163164</td>\n",
              "      <td>-9921889287</td>\n",
              "      <td>-5610051842</td>\n",
              "      <td>-8977995005</td>\n",
              "      <td>2</td>\n",
              "      <td>1</td>\n",
              "      <td>1</td>\n",
              "      <td>4</td>\n",
              "    </tr>\n",
              "    <tr>\n",
              "      <th>3</th>\n",
              "      <td>0.320641</td>\n",
              "      <td>0.957234</td>\n",
              "      <td>0.346000</td>\n",
              "      <td>0.646479</td>\n",
              "      <td>-7772</td>\n",
              "      <td>-383</td>\n",
              "      <td>9681</td>\n",
              "      <td>-8661</td>\n",
              "      <td>3474</td>\n",
              "      <td>-5724795826</td>\n",
              "      <td>-6014104498</td>\n",
              "      <td>6550322883</td>\n",
              "      <td>-4697085930</td>\n",
              "      <td>4868760308</td>\n",
              "      <td>1</td>\n",
              "      <td>1</td>\n",
              "      <td>15</td>\n",
              "      <td>1</td>\n",
              "    </tr>\n",
              "    <tr>\n",
              "      <th>4</th>\n",
              "      <td>0.475961</td>\n",
              "      <td>0.623008</td>\n",
              "      <td>0.544988</td>\n",
              "      <td>0.159709</td>\n",
              "      <td>1571</td>\n",
              "      <td>-8039</td>\n",
              "      <td>-7961</td>\n",
              "      <td>-2385</td>\n",
              "      <td>4407</td>\n",
              "      <td>-3097637172</td>\n",
              "      <td>-9755731483</td>\n",
              "      <td>759031103</td>\n",
              "      <td>9984692447</td>\n",
              "      <td>9757408267</td>\n",
              "      <td>1</td>\n",
              "      <td>1</td>\n",
              "      <td>1</td>\n",
              "      <td>1</td>\n",
              "    </tr>\n",
              "    <tr>\n",
              "      <th>...</th>\n",
              "      <td>...</td>\n",
              "      <td>...</td>\n",
              "      <td>...</td>\n",
              "      <td>...</td>\n",
              "      <td>...</td>\n",
              "      <td>...</td>\n",
              "      <td>...</td>\n",
              "      <td>...</td>\n",
              "      <td>...</td>\n",
              "      <td>...</td>\n",
              "      <td>...</td>\n",
              "      <td>...</td>\n",
              "      <td>...</td>\n",
              "      <td>...</td>\n",
              "      <td>...</td>\n",
              "      <td>...</td>\n",
              "      <td>...</td>\n",
              "      <td>...</td>\n",
              "    </tr>\n",
              "    <tr>\n",
              "      <th>101175</th>\n",
              "      <td>0.131724</td>\n",
              "      <td>0.146060</td>\n",
              "      <td>0.933111</td>\n",
              "      <td>0.576140</td>\n",
              "      <td>2708</td>\n",
              "      <td>-27</td>\n",
              "      <td>1584</td>\n",
              "      <td>-560</td>\n",
              "      <td>4712</td>\n",
              "      <td>1407261931</td>\n",
              "      <td>2200210722</td>\n",
              "      <td>3263130536</td>\n",
              "      <td>-6652948574</td>\n",
              "      <td>1240957077</td>\n",
              "      <td>2</td>\n",
              "      <td>1</td>\n",
              "      <td>6</td>\n",
              "      <td>1</td>\n",
              "    </tr>\n",
              "    <tr>\n",
              "      <th>101176</th>\n",
              "      <td>0.621812</td>\n",
              "      <td>0.873482</td>\n",
              "      <td>0.079753</td>\n",
              "      <td>0.197784</td>\n",
              "      <td>-4149</td>\n",
              "      <td>7634</td>\n",
              "      <td>-424</td>\n",
              "      <td>-5639</td>\n",
              "      <td>9960</td>\n",
              "      <td>6361808023</td>\n",
              "      <td>9614534079</td>\n",
              "      <td>-4110554578</td>\n",
              "      <td>-2729441740</td>\n",
              "      <td>1012332616</td>\n",
              "      <td>1</td>\n",
              "      <td>1</td>\n",
              "      <td>5</td>\n",
              "      <td>1</td>\n",
              "    </tr>\n",
              "    <tr>\n",
              "      <th>101177</th>\n",
              "      <td>0.909137</td>\n",
              "      <td>0.521869</td>\n",
              "      <td>0.233667</td>\n",
              "      <td>0.879493</td>\n",
              "      <td>-1920</td>\n",
              "      <td>-9858</td>\n",
              "      <td>-1086</td>\n",
              "      <td>615</td>\n",
              "      <td>-5154</td>\n",
              "      <td>5230015471</td>\n",
              "      <td>5031031479</td>\n",
              "      <td>7750015523</td>\n",
              "      <td>-1480708073</td>\n",
              "      <td>5703907465</td>\n",
              "      <td>1</td>\n",
              "      <td>1</td>\n",
              "      <td>2</td>\n",
              "      <td>4</td>\n",
              "    </tr>\n",
              "    <tr>\n",
              "      <th>101178</th>\n",
              "      <td>0.901495</td>\n",
              "      <td>0.546203</td>\n",
              "      <td>0.610663</td>\n",
              "      <td>0.805136</td>\n",
              "      <td>8372</td>\n",
              "      <td>4101</td>\n",
              "      <td>-2433</td>\n",
              "      <td>7065</td>\n",
              "      <td>-7695</td>\n",
              "      <td>176944084</td>\n",
              "      <td>-5186208321</td>\n",
              "      <td>-9324308921</td>\n",
              "      <td>5297524389</td>\n",
              "      <td>1988248591</td>\n",
              "      <td>1</td>\n",
              "      <td>1</td>\n",
              "      <td>1</td>\n",
              "      <td>1</td>\n",
              "    </tr>\n",
              "    <tr>\n",
              "      <th>101179</th>\n",
              "      <td>0.868519</td>\n",
              "      <td>0.187581</td>\n",
              "      <td>0.746064</td>\n",
              "      <td>0.608884</td>\n",
              "      <td>6302</td>\n",
              "      <td>-4847</td>\n",
              "      <td>8098</td>\n",
              "      <td>-5389</td>\n",
              "      <td>-2485</td>\n",
              "      <td>-8835218514</td>\n",
              "      <td>7026539219</td>\n",
              "      <td>1859519357</td>\n",
              "      <td>-4530391040</td>\n",
              "      <td>-9566000903</td>\n",
              "      <td>2</td>\n",
              "      <td>1</td>\n",
              "      <td>4</td>\n",
              "      <td>1</td>\n",
              "    </tr>\n",
              "  </tbody>\n",
              "</table>\n",
              "<p>101180 rows × 18 columns</p>\n",
              "</div>"
            ],
            "text/plain": [
              "              F1        F2        F3        F4  ...  F17  F18  F21  F22\n",
              "0       0.224506  0.500340  0.489860  0.902413  ...    2    1    1    2\n",
              "1       0.321128  0.281119  0.907283  0.772159  ...    1    1   18    7\n",
              "2       0.893441  0.622005  0.998776  0.098386  ...    2    1    1    4\n",
              "3       0.320641  0.957234  0.346000  0.646479  ...    1    1   15    1\n",
              "4       0.475961  0.623008  0.544988  0.159709  ...    1    1    1    1\n",
              "...          ...       ...       ...       ...  ...  ...  ...  ...  ...\n",
              "101175  0.131724  0.146060  0.933111  0.576140  ...    2    1    6    1\n",
              "101176  0.621812  0.873482  0.079753  0.197784  ...    1    1    5    1\n",
              "101177  0.909137  0.521869  0.233667  0.879493  ...    1    1    2    4\n",
              "101178  0.901495  0.546203  0.610663  0.805136  ...    1    1    1    1\n",
              "101179  0.868519  0.187581  0.746064  0.608884  ...    2    1    4    1\n",
              "\n",
              "[101180 rows x 18 columns]"
            ]
          },
          "metadata": {
            "tags": []
          },
          "execution_count": 101
        }
      ]
    },
    {
      "cell_type": "code",
      "metadata": {
        "id": "8sOAvQGmMeP3",
        "colab_type": "code",
        "colab": {}
      },
      "source": [
        "def NormalizeData(data):\n",
        "    return (data - np.min(data)) / (np.max(data) - np.min(data))"
      ],
      "execution_count": 102,
      "outputs": []
    },
    {
      "cell_type": "code",
      "metadata": {
        "id": "rZvx2JagMv-9",
        "colab_type": "code",
        "colab": {}
      },
      "source": [
        "X=NormalizeData(X)"
      ],
      "execution_count": 103,
      "outputs": []
    },
    {
      "cell_type": "code",
      "metadata": {
        "id": "cSpSc-6anZYJ",
        "colab_type": "code",
        "colab": {
          "base_uri": "https://localhost:8080/",
          "height": 206
        },
        "outputId": "40939adb-ba84-4f8b-f0c7-4f9bd10607ea"
      },
      "source": [
        "X.head()"
      ],
      "execution_count": 104,
      "outputs": [
        {
          "output_type": "execute_result",
          "data": {
            "text/html": [
              "<div>\n",
              "<style scoped>\n",
              "    .dataframe tbody tr th:only-of-type {\n",
              "        vertical-align: middle;\n",
              "    }\n",
              "\n",
              "    .dataframe tbody tr th {\n",
              "        vertical-align: top;\n",
              "    }\n",
              "\n",
              "    .dataframe thead th {\n",
              "        text-align: right;\n",
              "    }\n",
              "</style>\n",
              "<table border=\"1\" class=\"dataframe\">\n",
              "  <thead>\n",
              "    <tr style=\"text-align: right;\">\n",
              "      <th></th>\n",
              "      <th>F1</th>\n",
              "      <th>F2</th>\n",
              "      <th>F3</th>\n",
              "      <th>F4</th>\n",
              "      <th>F5</th>\n",
              "      <th>F6</th>\n",
              "      <th>F7</th>\n",
              "      <th>F8</th>\n",
              "      <th>F9</th>\n",
              "      <th>F10</th>\n",
              "      <th>F11</th>\n",
              "      <th>F12</th>\n",
              "      <th>F13</th>\n",
              "      <th>F14</th>\n",
              "      <th>F17</th>\n",
              "      <th>F18</th>\n",
              "      <th>F21</th>\n",
              "      <th>F22</th>\n",
              "    </tr>\n",
              "  </thead>\n",
              "  <tbody>\n",
              "    <tr>\n",
              "      <th>0</th>\n",
              "      <td>0.224495</td>\n",
              "      <td>0.500343</td>\n",
              "      <td>0.489867</td>\n",
              "      <td>0.902433</td>\n",
              "      <td>0.89670</td>\n",
              "      <td>0.15150</td>\n",
              "      <td>0.21430</td>\n",
              "      <td>0.99910</td>\n",
              "      <td>0.21515</td>\n",
              "      <td>0.711406</td>\n",
              "      <td>0.304061</td>\n",
              "      <td>0.515815</td>\n",
              "      <td>0.808844</td>\n",
              "      <td>0.328310</td>\n",
              "      <td>0.2</td>\n",
              "      <td>0.0</td>\n",
              "      <td>0.00</td>\n",
              "      <td>0.05</td>\n",
              "    </tr>\n",
              "    <tr>\n",
              "      <th>1</th>\n",
              "      <td>0.321120</td>\n",
              "      <td>0.281119</td>\n",
              "      <td>0.907296</td>\n",
              "      <td>0.772175</td>\n",
              "      <td>0.08810</td>\n",
              "      <td>0.56095</td>\n",
              "      <td>0.58315</td>\n",
              "      <td>0.56435</td>\n",
              "      <td>0.31710</td>\n",
              "      <td>0.442670</td>\n",
              "      <td>0.158138</td>\n",
              "      <td>0.568939</td>\n",
              "      <td>0.048418</td>\n",
              "      <td>0.530458</td>\n",
              "      <td>0.0</td>\n",
              "      <td>0.0</td>\n",
              "      <td>0.85</td>\n",
              "      <td>0.30</td>\n",
              "    </tr>\n",
              "    <tr>\n",
              "      <th>2</th>\n",
              "      <td>0.893452</td>\n",
              "      <td>0.622010</td>\n",
              "      <td>0.998791</td>\n",
              "      <td>0.098383</td>\n",
              "      <td>0.92700</td>\n",
              "      <td>0.76330</td>\n",
              "      <td>0.03115</td>\n",
              "      <td>0.32480</td>\n",
              "      <td>0.27445</td>\n",
              "      <td>0.797377</td>\n",
              "      <td>0.844061</td>\n",
              "      <td>0.003893</td>\n",
              "      <td>0.219492</td>\n",
              "      <td>0.051089</td>\n",
              "      <td>0.2</td>\n",
              "      <td>0.0</td>\n",
              "      <td>0.00</td>\n",
              "      <td>0.15</td>\n",
              "    </tr>\n",
              "    <tr>\n",
              "      <th>3</th>\n",
              "      <td>0.320633</td>\n",
              "      <td>0.957244</td>\n",
              "      <td>0.346004</td>\n",
              "      <td>0.646491</td>\n",
              "      <td>0.11140</td>\n",
              "      <td>0.48085</td>\n",
              "      <td>0.98405</td>\n",
              "      <td>0.06695</td>\n",
              "      <td>0.67370</td>\n",
              "      <td>0.213758</td>\n",
              "      <td>0.199288</td>\n",
              "      <td>0.827532</td>\n",
              "      <td>0.265141</td>\n",
              "      <td>0.743435</td>\n",
              "      <td>0.0</td>\n",
              "      <td>0.0</td>\n",
              "      <td>0.70</td>\n",
              "      <td>0.00</td>\n",
              "    </tr>\n",
              "    <tr>\n",
              "      <th>4</th>\n",
              "      <td>0.475958</td>\n",
              "      <td>0.623013</td>\n",
              "      <td>0.544996</td>\n",
              "      <td>0.159708</td>\n",
              "      <td>0.57855</td>\n",
              "      <td>0.09805</td>\n",
              "      <td>0.10195</td>\n",
              "      <td>0.38075</td>\n",
              "      <td>0.72035</td>\n",
              "      <td>0.345121</td>\n",
              "      <td>0.012204</td>\n",
              "      <td>0.537958</td>\n",
              "      <td>0.999237</td>\n",
              "      <td>0.987870</td>\n",
              "      <td>0.0</td>\n",
              "      <td>0.0</td>\n",
              "      <td>0.00</td>\n",
              "      <td>0.00</td>\n",
              "    </tr>\n",
              "  </tbody>\n",
              "</table>\n",
              "</div>"
            ],
            "text/plain": [
              "         F1        F2        F3        F4  ...  F17  F18   F21   F22\n",
              "0  0.224495  0.500343  0.489867  0.902433  ...  0.2  0.0  0.00  0.05\n",
              "1  0.321120  0.281119  0.907296  0.772175  ...  0.0  0.0  0.85  0.30\n",
              "2  0.893452  0.622010  0.998791  0.098383  ...  0.2  0.0  0.00  0.15\n",
              "3  0.320633  0.957244  0.346004  0.646491  ...  0.0  0.0  0.70  0.00\n",
              "4  0.475958  0.623013  0.544996  0.159708  ...  0.0  0.0  0.00  0.00\n",
              "\n",
              "[5 rows x 18 columns]"
            ]
          },
          "metadata": {
            "tags": []
          },
          "execution_count": 104
        }
      ]
    },
    {
      "cell_type": "code",
      "metadata": {
        "id": "yXx82b_sNg8R",
        "colab_type": "code",
        "colab": {
          "base_uri": "https://localhost:8080/",
          "height": 297
        },
        "outputId": "9fe74b5f-4af4-408d-e819-4022f2b5b081"
      },
      "source": [
        "import seaborn as sns\n",
        "sns.boxplot(x=X['F1'])"
      ],
      "execution_count": 105,
      "outputs": [
        {
          "output_type": "execute_result",
          "data": {
            "text/plain": [
              "<matplotlib.axes._subplots.AxesSubplot at 0x7f9c8d3d0ba8>"
            ]
          },
          "metadata": {
            "tags": []
          },
          "execution_count": 105
        },
        {
          "output_type": "display_data",
          "data": {
            "image/png": "[encoded data removed]",
            "text/plain": [
              "<Figure size 432x288 with 1 Axes>"
            ]
          },
          "metadata": {
            "tags": [],
            "needs_background": "light"
          }
        }
      ]
    },
    {
      "cell_type": "code",
      "metadata": {
        "id": "qgoiM-2TNsc_",
        "colab_type": "code",
        "colab": {
          "base_uri": "https://localhost:8080/",
          "height": 297
        },
        "outputId": "40a43377-67d1-4154-ea21-36c1bdde8fd7"
      },
      "source": [
        "import seaborn as sns\n",
        "sns.boxplot(x=X['F2'])"
      ],
      "execution_count": 106,
      "outputs": [
        {
          "output_type": "execute_result",
          "data": {
            "text/plain": [
              "<matplotlib.axes._subplots.AxesSubplot at 0x7f9c8d30c390>"
            ]
          },
          "metadata": {
            "tags": []
          },
          "execution_count": 106
        },
        {
          "output_type": "display_data",
          "data": {
            "image/png": "[encoded data removed]",
            "text/plain": [
              "<Figure size 432x288 with 1 Axes>"
            ]
          },
          "metadata": {
            "tags": [],
            "needs_background": "light"
          }
        }
      ]
    },
    {
      "cell_type": "code",
      "metadata": {
        "id": "CyH6IHgTNuhA",
        "colab_type": "code",
        "colab": {
          "base_uri": "https://localhost:8080/",
          "height": 297
        },
        "outputId": "293897c9-a249-4d77-e419-36002410c771"
      },
      "source": [
        "import seaborn as sns\n",
        "sns.boxplot(x=X['F3'])"
      ],
      "execution_count": 107,
      "outputs": [
        {
          "output_type": "execute_result",
          "data": {
            "text/plain": [
              "<matplotlib.axes._subplots.AxesSubplot at 0x7f9c8d2e1860>"
            ]
          },
          "metadata": {
            "tags": []
          },
          "execution_count": 107
        },
        {
          "output_type": "display_data",
          "data": {
            "image/png": "[encoded data removed]",
            "text/plain": [
              "<Figure size 432x288 with 1 Axes>"
            ]
          },
          "metadata": {
            "tags": [],
            "needs_background": "light"
          }
        }
      ]
    },
    {
      "cell_type": "code",
      "metadata": {
        "id": "U258vYkgNxf5",
        "colab_type": "code",
        "colab": {
          "base_uri": "https://localhost:8080/",
          "height": 297
        },
        "outputId": "12d20112-a4e0-4664-8448-16a4af6ffb4f"
      },
      "source": [
        "import seaborn as sns\n",
        "sns.boxplot(x=X['F4'])"
      ],
      "execution_count": 108,
      "outputs": [
        {
          "output_type": "execute_result",
          "data": {
            "text/plain": [
              "<matplotlib.axes._subplots.AxesSubplot at 0x7f9c8d727828>"
            ]
          },
          "metadata": {
            "tags": []
          },
          "execution_count": 108
        },
        {
          "output_type": "display_data",
          "data": {
            "image/png": "[encoded data removed]",
            "text/plain": [
              "<Figure size 432x288 with 1 Axes>"
            ]
          },
          "metadata": {
            "tags": [],
            "needs_background": "light"
          }
        }
      ]
    },
    {
      "cell_type": "code",
      "metadata": {
        "id": "Pli32dgZNz-n",
        "colab_type": "code",
        "colab": {
          "base_uri": "https://localhost:8080/",
          "height": 297
        },
        "outputId": "addef14f-8122-4e8a-d5d8-1cce73a4c1e8"
      },
      "source": [
        "import seaborn as sns\n",
        "sns.boxplot(x=X['F5'])"
      ],
      "execution_count": 109,
      "outputs": [
        {
          "output_type": "execute_result",
          "data": {
            "text/plain": [
              "<matplotlib.axes._subplots.AxesSubplot at 0x7f9c8d4aa198>"
            ]
          },
          "metadata": {
            "tags": []
          },
          "execution_count": 109
        },
        {
          "output_type": "display_data",
          "data": {
            "image/png": "[encoded data removed]",
            "text/plain": [
              "<Figure size 432x288 with 1 Axes>"
            ]
          },
          "metadata": {
            "tags": [],
            "needs_background": "light"
          }
        }
      ]
    },
    {
      "cell_type": "code",
      "metadata": {
        "id": "UEncHTB9N2PJ",
        "colab_type": "code",
        "colab": {
          "base_uri": "https://localhost:8080/",
          "height": 297
        },
        "outputId": "e2378213-9a69-439f-e1a7-95c56eb2f1d7"
      },
      "source": [
        "import seaborn as sns\n",
        "sns.boxplot(x=X['F6'])"
      ],
      "execution_count": 110,
      "outputs": [
        {
          "output_type": "execute_result",
          "data": {
            "text/plain": [
              "<matplotlib.axes._subplots.AxesSubplot at 0x7f9c8d989f28>"
            ]
          },
          "metadata": {
            "tags": []
          },
          "execution_count": 110
        },
        {
          "output_type": "display_data",
          "data": {
            "image/png": "[encoded data removed]",
            "text/plain": [
              "<Figure size 432x288 with 1 Axes>"
            ]
          },
          "metadata": {
            "tags": [],
            "needs_background": "light"
          }
        }
      ]
    },
    {
      "cell_type": "code",
      "metadata": {
        "id": "kvhv3cWZN4T5",
        "colab_type": "code",
        "colab": {
          "base_uri": "https://localhost:8080/",
          "height": 297
        },
        "outputId": "187962d0-74fd-4422-877a-856e8ab71ad6"
      },
      "source": [
        "import seaborn as sns\n",
        "sns.boxplot(x=X['F7'])"
      ],
      "execution_count": 111,
      "outputs": [
        {
          "output_type": "execute_result",
          "data": {
            "text/plain": [
              "<matplotlib.axes._subplots.AxesSubplot at 0x7f9c8d5b5cc0>"
            ]
          },
          "metadata": {
            "tags": []
          },
          "execution_count": 111
        },
        {
          "output_type": "display_data",
          "data": {
            "image/png": "[encoded data removed]",
            "text/plain": [
              "<Figure size 432x288 with 1 Axes>"
            ]
          },
          "metadata": {
            "tags": [],
            "needs_background": "light"
          }
        }
      ]
    },
    {
      "cell_type": "code",
      "metadata": {
        "id": "X6CHJTR0N6v3",
        "colab_type": "code",
        "colab": {
          "base_uri": "https://localhost:8080/",
          "height": 297
        },
        "outputId": "5cc9883d-238d-4ce4-b112-d447247dce04"
      },
      "source": [
        "import seaborn as sns\n",
        "sns.boxplot(x=X['F8'])"
      ],
      "execution_count": 112,
      "outputs": [
        {
          "output_type": "execute_result",
          "data": {
            "text/plain": [
              "<matplotlib.axes._subplots.AxesSubplot at 0x7f9c8d581a58>"
            ]
          },
          "metadata": {
            "tags": []
          },
          "execution_count": 112
        },
        {
          "output_type": "display_data",
          "data": {
            "image/png": "[encoded data removed]",
            "text/plain": [
              "<Figure size 432x288 with 1 Axes>"
            ]
          },
          "metadata": {
            "tags": [],
            "needs_background": "light"
          }
        }
      ]
    },
    {
      "cell_type": "code",
      "metadata": {
        "id": "45P7JiCCN9Lv",
        "colab_type": "code",
        "colab": {
          "base_uri": "https://localhost:8080/",
          "height": 297
        },
        "outputId": "9f1d6e3b-c00d-4a66-a39b-dcaad7d23e34"
      },
      "source": [
        "import seaborn as sns\n",
        "sns.boxplot(x=X['F9'])"
      ],
      "execution_count": 113,
      "outputs": [
        {
          "output_type": "execute_result",
          "data": {
            "text/plain": [
              "<matplotlib.axes._subplots.AxesSubplot at 0x7f9c8e111e10>"
            ]
          },
          "metadata": {
            "tags": []
          },
          "execution_count": 113
        },
        {
          "output_type": "display_data",
          "data": {
            "image/png": "[encoded data removed]",
            "text/plain": [
              "<Figure size 432x288 with 1 Axes>"
            ]
          },
          "metadata": {
            "tags": [],
            "needs_background": "light"
          }
        }
      ]
    },
    {
      "cell_type": "code",
      "metadata": {
        "id": "PYH2zbUmN_1m",
        "colab_type": "code",
        "colab": {
          "base_uri": "https://localhost:8080/",
          "height": 297
        },
        "outputId": "8d0b43f7-9cfa-491d-c919-ed7fd3a9f0b5"
      },
      "source": [
        "import seaborn as sns\n",
        "sns.boxplot(x=X['F10'])"
      ],
      "execution_count": 114,
      "outputs": [
        {
          "output_type": "execute_result",
          "data": {
            "text/plain": [
              "<matplotlib.axes._subplots.AxesSubplot at 0x7f9c8dbacc50>"
            ]
          },
          "metadata": {
            "tags": []
          },
          "execution_count": 114
        },
        {
          "output_type": "display_data",
          "data": {
            "image/png": "[encoded data removed]",
            "text/plain": [
              "<Figure size 432x288 with 1 Axes>"
            ]
          },
          "metadata": {
            "tags": [],
            "needs_background": "light"
          }
        }
      ]
    },
    {
      "cell_type": "code",
      "metadata": {
        "id": "7J3QXTxGOCJP",
        "colab_type": "code",
        "colab": {
          "base_uri": "https://localhost:8080/",
          "height": 297
        },
        "outputId": "0cfac0d2-96f2-4d10-9974-317ec0f69f5a"
      },
      "source": [
        "import seaborn as sns\n",
        "sns.boxplot(x=X['F11'])"
      ],
      "execution_count": 115,
      "outputs": [
        {
          "output_type": "execute_result",
          "data": {
            "text/plain": [
              "<matplotlib.axes._subplots.AxesSubplot at 0x7f9c8d71ac50>"
            ]
          },
          "metadata": {
            "tags": []
          },
          "execution_count": 115
        },
        {
          "output_type": "display_data",
          "data": {
            "image/png": "[encoded data removed]",
            "text/plain": [
              "<Figure size 432x288 with 1 Axes>"
            ]
          },
          "metadata": {
            "tags": [],
            "needs_background": "light"
          }
        }
      ]
    },
    {
      "cell_type": "code",
      "metadata": {
        "id": "6rfVIgmtOE9s",
        "colab_type": "code",
        "colab": {
          "base_uri": "https://localhost:8080/",
          "height": 297
        },
        "outputId": "cefa6fdf-ef15-4af5-eb55-e781b475b387"
      },
      "source": [
        "import seaborn as sns\n",
        "sns.boxplot(x=X['F12'])"
      ],
      "execution_count": 116,
      "outputs": [
        {
          "output_type": "execute_result",
          "data": {
            "text/plain": [
              "<matplotlib.axes._subplots.AxesSubplot at 0x7f9c8d748908>"
            ]
          },
          "metadata": {
            "tags": []
          },
          "execution_count": 116
        },
        {
          "output_type": "display_data",
          "data": {
            "image/png": "[encoded data removed]",
            "text/plain": [
              "<Figure size 432x288 with 1 Axes>"
            ]
          },
          "metadata": {
            "tags": [],
            "needs_background": "light"
          }
        }
      ]
    },
    {
      "cell_type": "code",
      "metadata": {
        "id": "Y8og1_HuOHZA",
        "colab_type": "code",
        "colab": {
          "base_uri": "https://localhost:8080/",
          "height": 297
        },
        "outputId": "6470c440-8173-4cae-fb4a-91b6945b908d"
      },
      "source": [
        "import seaborn as sns\n",
        "sns.boxplot(x=X['F13'])"
      ],
      "execution_count": 117,
      "outputs": [
        {
          "output_type": "execute_result",
          "data": {
            "text/plain": [
              "<matplotlib.axes._subplots.AxesSubplot at 0x7f9c8d748278>"
            ]
          },
          "metadata": {
            "tags": []
          },
          "execution_count": 117
        },
        {
          "output_type": "display_data",
          "data": {
            "image/png": "[encoded data removed]",
            "text/plain": [
              "<Figure size 432x288 with 1 Axes>"
            ]
          },
          "metadata": {
            "tags": [],
            "needs_background": "light"
          }
        }
      ]
    },
    {
      "cell_type": "code",
      "metadata": {
        "id": "FSl8Em4XOJVq",
        "colab_type": "code",
        "colab": {
          "base_uri": "https://localhost:8080/",
          "height": 297
        },
        "outputId": "52925d0a-7ab0-4537-de68-756d6bd3993f"
      },
      "source": [
        "import seaborn as sns\n",
        "sns.boxplot(x=X['F14'])"
      ],
      "execution_count": 118,
      "outputs": [
        {
          "output_type": "execute_result",
          "data": {
            "text/plain": [
              "<matplotlib.axes._subplots.AxesSubplot at 0x7f9c8d8accf8>"
            ]
          },
          "metadata": {
            "tags": []
          },
          "execution_count": 118
        },
        {
          "output_type": "display_data",
          "data": {
            "image/png": "[encoded data removed]",
            "text/plain": [
              "<Figure size 432x288 with 1 Axes>"
            ]
          },
          "metadata": {
            "tags": [],
            "needs_background": "light"
          }
        }
      ]
    },
    {
      "cell_type": "code",
      "metadata": {
        "id": "9GyHUfF-OLdN",
        "colab_type": "code",
        "colab": {
          "base_uri": "https://localhost:8080/",
          "height": 297
        },
        "outputId": "681705cb-c39a-4995-a69d-a75f7a4d3890"
      },
      "source": [
        "import seaborn as sns\n",
        "sns.boxplot(x=X['F17'])"
      ],
      "execution_count": 119,
      "outputs": [
        {
          "output_type": "execute_result",
          "data": {
            "text/plain": [
              "<matplotlib.axes._subplots.AxesSubplot at 0x7f9c8d565cc0>"
            ]
          },
          "metadata": {
            "tags": []
          },
          "execution_count": 119
        },
        {
          "output_type": "display_data",
          "data": {
            "image/png": "[encoded data removed]",
            "text/plain": [
              "<Figure size 432x288 with 1 Axes>"
            ]
          },
          "metadata": {
            "tags": [],
            "needs_background": "light"
          }
        }
      ]
    },
    {
      "cell_type": "code",
      "metadata": {
        "id": "XWBqPnN0OV41",
        "colab_type": "code",
        "colab": {
          "base_uri": "https://localhost:8080/",
          "height": 297
        },
        "outputId": "adb68db7-9b45-4986-bd31-fa6985312b55"
      },
      "source": [
        "import seaborn as sns\n",
        "sns.boxplot(x=X['F18'])"
      ],
      "execution_count": 120,
      "outputs": [
        {
          "output_type": "execute_result",
          "data": {
            "text/plain": [
              "<matplotlib.axes._subplots.AxesSubplot at 0x7f9c8d730ba8>"
            ]
          },
          "metadata": {
            "tags": []
          },
          "execution_count": 120
        },
        {
          "output_type": "display_data",
          "data": {
            "image/png": "[encoded data removed]",
            "text/plain": [
              "<Figure size 432x288 with 1 Axes>"
            ]
          },
          "metadata": {
            "tags": [],
            "needs_background": "light"
          }
        }
      ]
    },
    {
      "cell_type": "code",
      "metadata": {
        "id": "X3pNNWSKTsqk",
        "colab_type": "code",
        "colab": {}
      },
      "source": [
        "#Q1  =  X['F18'].quantile(0.25)\n",
        "#Q3  = X['F18'].quantile(0.75)\n",
        "#IQR = Q3 - Q1"
      ],
      "execution_count": 121,
      "outputs": []
    },
    {
      "cell_type": "code",
      "metadata": {
        "id": "cd-kIuSsTxWT",
        "colab_type": "code",
        "colab": {}
      },
      "source": [
        "#OUT_2 = X[(X['F18'] < Q1-1.5*IQR ) | (X['F18'] > Q3+1.5*IQR)]['F18']"
      ],
      "execution_count": 122,
      "outputs": []
    },
    {
      "cell_type": "code",
      "metadata": {
        "id": "ujX28Sp5T8WO",
        "colab_type": "code",
        "colab": {}
      },
      "source": [
        "#len(OUT_2)"
      ],
      "execution_count": 123,
      "outputs": []
    },
    {
      "cell_type": "code",
      "metadata": {
        "id": "nd-A3zC3OZX2",
        "colab_type": "code",
        "colab": {
          "base_uri": "https://localhost:8080/",
          "height": 297
        },
        "outputId": "a8101d70-53d0-4f4d-f4ad-15e1d0e74755"
      },
      "source": [
        "import seaborn as sns\n",
        "sns.boxplot(x=X['F21'])"
      ],
      "execution_count": 124,
      "outputs": [
        {
          "output_type": "execute_result",
          "data": {
            "text/plain": [
              "<matplotlib.axes._subplots.AxesSubplot at 0x7f9c8dc10dd8>"
            ]
          },
          "metadata": {
            "tags": []
          },
          "execution_count": 124
        },
        {
          "output_type": "display_data",
          "data": {
            "image/png": "[encoded data removed]",
            "text/plain": [
              "<Figure size 432x288 with 1 Axes>"
            ]
          },
          "metadata": {
            "tags": [],
            "needs_background": "light"
          }
        }
      ]
    },
    {
      "cell_type": "code",
      "metadata": {
        "id": "Dcm-k7L0OhV6",
        "colab_type": "code",
        "colab": {
          "base_uri": "https://localhost:8080/",
          "height": 297
        },
        "outputId": "ef79f217-bb3c-4901-8254-1ed1bd034e8f"
      },
      "source": [
        "import seaborn as sns\n",
        "sns.boxplot(x=X['F22'])"
      ],
      "execution_count": 125,
      "outputs": [
        {
          "output_type": "execute_result",
          "data": {
            "text/plain": [
              "<matplotlib.axes._subplots.AxesSubplot at 0x7f9c8da6de80>"
            ]
          },
          "metadata": {
            "tags": []
          },
          "execution_count": 125
        },
        {
          "output_type": "display_data",
          "data": {
            "image/png": "[encoded data removed]",
            "text/plain": [
              "<Figure size 432x288 with 1 Axes>"
            ]
          },
          "metadata": {
            "tags": [],
            "needs_background": "light"
          }
        }
      ]
    },
    {
      "cell_type": "markdown",
      "metadata": {
        "id": "UPAFqcjmd-eq",
        "colab_type": "text"
      },
      "source": [
        "Since we have 40% of the population which are outlier we cannt eliminate it since its a large dataset and also by observing the columns it can vbe easily replace by the median the column."
      ]
    },
    {
      "cell_type": "code",
      "metadata": {
        "id": "kd4aS6S7emOD",
        "colab_type": "code",
        "colab": {
          "base_uri": "https://localhost:8080/",
          "height": 127
        },
        "outputId": "d65d2bb6-107d-4416-9f2b-f4834b853874"
      },
      "source": [
        "X['F17'].value_counts() "
      ],
      "execution_count": 126,
      "outputs": [
        {
          "output_type": "execute_result",
          "data": {
            "text/plain": [
              "0.0    81320\n",
              "0.2    13536\n",
              "0.4     2426\n",
              "1.0     2139\n",
              "0.6     1759\n",
              "Name: F17, dtype: int64"
            ]
          },
          "metadata": {
            "tags": []
          },
          "execution_count": 126
        }
      ]
    },
    {
      "cell_type": "code",
      "metadata": {
        "id": "HiACu8lvfvsI",
        "colab_type": "code",
        "colab": {
          "base_uri": "https://localhost:8080/",
          "height": 35
        },
        "outputId": "593c29ed-4970-438f-e115-4b5eae134035"
      },
      "source": [
        "X['F17'].unique()"
      ],
      "execution_count": 127,
      "outputs": [
        {
          "output_type": "execute_result",
          "data": {
            "text/plain": [
              "array([0.2, 0. , 0.6, 1. , 0.4])"
            ]
          },
          "metadata": {
            "tags": []
          },
          "execution_count": 127
        }
      ]
    },
    {
      "cell_type": "code",
      "metadata": {
        "id": "K-f2G-YgfOy_",
        "colab_type": "code",
        "colab": {
          "base_uri": "https://localhost:8080/",
          "height": 127
        },
        "outputId": "ebeff367-0def-484f-dc3a-05c02daca1e4"
      },
      "source": [
        "X['F18'].value_counts() "
      ],
      "execution_count": 128,
      "outputs": [
        {
          "output_type": "execute_result",
          "data": {
            "text/plain": [
              "0.0    81432\n",
              "0.2    13484\n",
              "0.4     2436\n",
              "1.0     2029\n",
              "0.6     1799\n",
              "Name: F18, dtype: int64"
            ]
          },
          "metadata": {
            "tags": []
          },
          "execution_count": 128
        }
      ]
    },
    {
      "cell_type": "code",
      "metadata": {
        "id": "EGoHQDP2f17w",
        "colab_type": "code",
        "colab": {
          "base_uri": "https://localhost:8080/",
          "height": 35
        },
        "outputId": "77946573-4430-40d6-d902-b6926a92624e"
      },
      "source": [
        "X['F18'].unique()"
      ],
      "execution_count": 129,
      "outputs": [
        {
          "output_type": "execute_result",
          "data": {
            "text/plain": [
              "array([0. , 0.2, 0.6, 1. , 0.4])"
            ]
          },
          "metadata": {
            "tags": []
          },
          "execution_count": 129
        }
      ]
    },
    {
      "cell_type": "code",
      "metadata": {
        "id": "Oe0PD0bHfUS1",
        "colab_type": "code",
        "colab": {
          "base_uri": "https://localhost:8080/",
          "height": 421
        },
        "outputId": "c9a5578e-956a-4d98-a502-ccb2dcd419cc"
      },
      "source": [
        "X['F21'].value_counts() "
      ],
      "execution_count": 130,
      "outputs": [
        {
          "output_type": "execute_result",
          "data": {
            "text/plain": [
              "0.00    41565\n",
              "0.05     8157\n",
              "0.10     7229\n",
              "0.15     7022\n",
              "0.20     5912\n",
              "0.25     5138\n",
              "0.30     4548\n",
              "0.35     3822\n",
              "0.45     3261\n",
              "0.40     3201\n",
              "0.50     2835\n",
              "1.00     2807\n",
              "0.55     1285\n",
              "0.60     1224\n",
              "0.65      910\n",
              "0.70      650\n",
              "0.75      538\n",
              "0.80      319\n",
              "0.85      266\n",
              "0.90      249\n",
              "0.95      242\n",
              "Name: F21, dtype: int64"
            ]
          },
          "metadata": {
            "tags": []
          },
          "execution_count": 130
        }
      ]
    },
    {
      "cell_type": "code",
      "metadata": {
        "id": "QKDO31-sf5eo",
        "colab_type": "code",
        "colab": {
          "base_uri": "https://localhost:8080/",
          "height": 54
        },
        "outputId": "cd29f81c-9d83-4780-8b51-3cb3508a7001"
      },
      "source": [
        "X['F21'].unique()"
      ],
      "execution_count": 131,
      "outputs": [
        {
          "output_type": "execute_result",
          "data": {
            "text/plain": [
              "array([0.  , 0.85, 0.7 , 0.25, 0.2 , 0.1 , 0.35, 0.4 , 0.15, 1.  , 0.05,\n",
              "       0.5 , 0.45, 0.55, 0.3 , 0.6 , 0.75, 0.65, 0.9 , 0.95, 0.8 ])"
            ]
          },
          "metadata": {
            "tags": []
          },
          "execution_count": 131
        }
      ]
    },
    {
      "cell_type": "code",
      "metadata": {
        "id": "uF06YXDzf_WS",
        "colab_type": "code",
        "colab": {
          "base_uri": "https://localhost:8080/",
          "height": 421
        },
        "outputId": "8635054a-a381-40f8-d5f7-b8b074e80055"
      },
      "source": [
        "\n",
        "X['F22'].value_counts()"
      ],
      "execution_count": 132,
      "outputs": [
        {
          "output_type": "execute_result",
          "data": {
            "text/plain": [
              "0.00    41408\n",
              "0.05     8048\n",
              "0.10     7198\n",
              "0.15     7103\n",
              "0.20     6069\n",
              "0.25     5246\n",
              "0.30     4519\n",
              "0.35     3818\n",
              "0.45     3273\n",
              "0.40     3167\n",
              "1.00     2872\n",
              "0.50     2802\n",
              "0.55     1319\n",
              "0.60     1184\n",
              "0.65     1004\n",
              "0.70      637\n",
              "0.75      526\n",
              "0.80      278\n",
              "0.85      262\n",
              "0.95      226\n",
              "0.90      221\n",
              "Name: F22, dtype: int64"
            ]
          },
          "metadata": {
            "tags": []
          },
          "execution_count": 132
        }
      ]
    },
    {
      "cell_type": "markdown",
      "metadata": {
        "id": "JqmlLSHQkP_X",
        "colab_type": "text"
      },
      "source": [
        "Since by observing the data column of F17,F18,F21,F22 all are either integer or have some sequence so we cant impute mean to the outlier so choosing median for imputing data ouliers.\n"
      ]
    },
    {
      "cell_type": "markdown",
      "metadata": {
        "id": "YOR-EKDEktzZ",
        "colab_type": "text"
      },
      "source": [
        "**Replacing out-lier by suitbale value**"
      ]
    },
    {
      "cell_type": "code",
      "metadata": {
        "id": "9_nHA3q9UrGe",
        "colab_type": "code",
        "colab": {
          "base_uri": "https://localhost:8080/",
          "height": 182
        },
        "outputId": "ef32b07c-19f2-48e3-d0df-f280cb08d130"
      },
      "source": [
        "X['F17'].describe()"
      ],
      "execution_count": 133,
      "outputs": [
        {
          "output_type": "execute_result",
          "data": {
            "text/plain": [
              "count    101180.000000\n",
              "mean          0.067919\n",
              "std           0.178813\n",
              "min           0.000000\n",
              "25%           0.000000\n",
              "50%           0.000000\n",
              "75%           0.000000\n",
              "max           1.000000\n",
              "Name: F17, dtype: float64"
            ]
          },
          "metadata": {
            "tags": []
          },
          "execution_count": 133
        }
      ]
    },
    {
      "cell_type": "code",
      "metadata": {
        "id": "0xFD_lr2VlsO",
        "colab_type": "code",
        "colab": {}
      },
      "source": [
        "Q1  =  X['F17'].quantile(0.25)\n",
        "Q3  = X['F17'].quantile(0.75)\n",
        "IQR = Q3 - Q1"
      ],
      "execution_count": 134,
      "outputs": []
    },
    {
      "cell_type": "code",
      "metadata": {
        "id": "Glm4EiPfY0gn",
        "colab_type": "code",
        "colab": {
          "base_uri": "https://localhost:8080/",
          "height": 35
        },
        "outputId": "1e071881-d3d7-428a-927a-a8a6532c85be"
      },
      "source": [
        "X['F17'].median()"
      ],
      "execution_count": 135,
      "outputs": [
        {
          "output_type": "execute_result",
          "data": {
            "text/plain": [
              "0.0"
            ]
          },
          "metadata": {
            "tags": []
          },
          "execution_count": 135
        }
      ]
    },
    {
      "cell_type": "code",
      "metadata": {
        "id": "4trkq2t0WMZ-",
        "colab_type": "code",
        "colab": {
          "base_uri": "https://localhost:8080/",
          "height": 35
        },
        "outputId": "6b8fd649-25af-4a29-c6fd-d31e91d81b62"
      },
      "source": [
        "IQR"
      ],
      "execution_count": 136,
      "outputs": [
        {
          "output_type": "execute_result",
          "data": {
            "text/plain": [
              "0.0"
            ]
          },
          "metadata": {
            "tags": []
          },
          "execution_count": 136
        }
      ]
    },
    {
      "cell_type": "code",
      "metadata": {
        "id": "gG0-_w5wXocb",
        "colab_type": "code",
        "colab": {}
      },
      "source": [
        "X['F17'] = np.where(X['F17'] <= Q1-1.5*IQR, 0.0,X['F17'])\n",
        "X['F17'] = np.where(X['F17'] >=Q3+1.5*IQR, 0.0,X['F17'])"
      ],
      "execution_count": 137,
      "outputs": []
    },
    {
      "cell_type": "code",
      "metadata": {
        "id": "8MRS78R4IfiZ",
        "colab_type": "code",
        "colab": {
          "base_uri": "https://localhost:8080/",
          "height": 297
        },
        "outputId": "b9922b8c-3db5-4144-ad47-5a8ebe581f17"
      },
      "source": [
        "import seaborn as sns\n",
        "sns.boxplot(x=X['F17'])"
      ],
      "execution_count": 138,
      "outputs": [
        {
          "output_type": "execute_result",
          "data": {
            "text/plain": [
              "<matplotlib.axes._subplots.AxesSubplot at 0x7f9c8d6e2ac8>"
            ]
          },
          "metadata": {
            "tags": []
          },
          "execution_count": 138
        },
        {
          "output_type": "display_data",
          "data": {
            "image/png": "[encoded data removed]",
            "text/plain": [
              "<Figure size 432x288 with 1 Axes>"
            ]
          },
          "metadata": {
            "tags": [],
            "needs_background": "light"
          }
        }
      ]
    },
    {
      "cell_type": "code",
      "metadata": {
        "id": "B2sWEsnh3FXR",
        "colab_type": "code",
        "colab": {
          "base_uri": "https://localhost:8080/",
          "height": 297
        },
        "outputId": "fbb465b7-e83c-4f9d-8172-36d06bae1818"
      },
      "source": [
        "import seaborn as sns\n",
        "sns.boxplot(x=X['F17'])"
      ],
      "execution_count": 139,
      "outputs": [
        {
          "output_type": "execute_result",
          "data": {
            "text/plain": [
              "<matplotlib.axes._subplots.AxesSubplot at 0x7f9c8d630630>"
            ]
          },
          "metadata": {
            "tags": []
          },
          "execution_count": 139
        },
        {
          "output_type": "display_data",
          "data": {
            "image/png": "[encoded data removed]",
            "text/plain": [
              "<Figure size 432x288 with 1 Axes>"
            ]
          },
          "metadata": {
            "tags": [],
            "needs_background": "light"
          }
        }
      ]
    },
    {
      "cell_type": "code",
      "metadata": {
        "id": "KDNMG9Ui3mgr",
        "colab_type": "code",
        "colab": {
          "base_uri": "https://localhost:8080/",
          "height": 182
        },
        "outputId": "f066294c-bb94-43c5-ea60-b4717dbd9ae0"
      },
      "source": [
        "X['F18'].describe()"
      ],
      "execution_count": 140,
      "outputs": [
        {
          "output_type": "execute_result",
          "data": {
            "text/plain": [
              "count    101180.000000\n",
              "mean          0.067005\n",
              "std           0.176487\n",
              "min           0.000000\n",
              "25%           0.000000\n",
              "50%           0.000000\n",
              "75%           0.000000\n",
              "max           1.000000\n",
              "Name: F18, dtype: float64"
            ]
          },
          "metadata": {
            "tags": []
          },
          "execution_count": 140
        }
      ]
    },
    {
      "cell_type": "code",
      "metadata": {
        "id": "rdYstanlDEXH",
        "colab_type": "code",
        "colab": {
          "base_uri": "https://localhost:8080/",
          "height": 35
        },
        "outputId": "115044df-1259-418e-b2ed-c7c1f51d51a9"
      },
      "source": [
        "Q1  =  X['F18'].quantile(0.25)\n",
        "Q3  = X['F18'].quantile(0.75)\n",
        "IQR = Q3 - Q1\n",
        "print(IQR)"
      ],
      "execution_count": 141,
      "outputs": [
        {
          "output_type": "stream",
          "text": [
            "0.0\n"
          ],
          "name": "stdout"
        }
      ]
    },
    {
      "cell_type": "code",
      "metadata": {
        "id": "s1ZF28bBZLmr",
        "colab_type": "code",
        "colab": {
          "base_uri": "https://localhost:8080/",
          "height": 35
        },
        "outputId": "4aaebd3e-58a9-467e-90e8-cb8497e7b19a"
      },
      "source": [
        "\n",
        "\n",
        "X['F18'].median()"
      ],
      "execution_count": 142,
      "outputs": [
        {
          "output_type": "execute_result",
          "data": {
            "text/plain": [
              "0.0"
            ]
          },
          "metadata": {
            "tags": []
          },
          "execution_count": 142
        }
      ]
    },
    {
      "cell_type": "code",
      "metadata": {
        "id": "wNPbBZKFZLh0",
        "colab_type": "code",
        "colab": {}
      },
      "source": [
        "X['F18'] = np.where(X['F18'] <= Q1-1.5*IQR, 0.0,X['F18'])\n",
        "X['F18'] = np.where(X['F18'] >=Q3+1.5*IQR, 0.0,X['F18'])"
      ],
      "execution_count": 143,
      "outputs": []
    },
    {
      "cell_type": "code",
      "metadata": {
        "id": "rl7veZt9ZLdY",
        "colab_type": "code",
        "colab": {
          "base_uri": "https://localhost:8080/",
          "height": 297
        },
        "outputId": "779403c3-05ef-4bcf-f380-6ae65444080f"
      },
      "source": [
        "import seaborn as sns\n",
        "sns.boxplot(x=X['F18'])"
      ],
      "execution_count": 144,
      "outputs": [
        {
          "output_type": "execute_result",
          "data": {
            "text/plain": [
              "<matplotlib.axes._subplots.AxesSubplot at 0x7f9c8d590ba8>"
            ]
          },
          "metadata": {
            "tags": []
          },
          "execution_count": 144
        },
        {
          "output_type": "display_data",
          "data": {
            "image/png": "[encoded data removed]",
            "text/plain": [
              "<Figure size 432x288 with 1 Axes>"
            ]
          },
          "metadata": {
            "tags": [],
            "needs_background": "light"
          }
        }
      ]
    },
    {
      "cell_type": "code",
      "metadata": {
        "id": "o1vsJLQPZLa-",
        "colab_type": "code",
        "colab": {
          "base_uri": "https://localhost:8080/",
          "height": 182
        },
        "outputId": "8b6f7eda-5f60-4dfd-bbd9-177c8d76c579"
      },
      "source": [
        "X['F21'].describe()"
      ],
      "execution_count": 145,
      "outputs": [
        {
          "output_type": "execute_result",
          "data": {
            "text/plain": [
              "count    101180.000000\n",
              "mean          0.179402\n",
              "std           0.238784\n",
              "min           0.000000\n",
              "25%           0.000000\n",
              "50%           0.100000\n",
              "75%           0.300000\n",
              "max           1.000000\n",
              "Name: F21, dtype: float64"
            ]
          },
          "metadata": {
            "tags": []
          },
          "execution_count": 145
        }
      ]
    },
    {
      "cell_type": "code",
      "metadata": {
        "id": "5U2PGVWRZLYQ",
        "colab_type": "code",
        "colab": {
          "base_uri": "https://localhost:8080/",
          "height": 35
        },
        "outputId": "9fe1bcf3-66ae-45c0-e4c3-90e94b5851a0"
      },
      "source": [
        "Q1  =  X['F21'].quantile(0.25)\n",
        "Q3  = X['F21'].quantile(0.75)\n",
        "IQR = Q3 - Q1\n",
        "print(IQR)"
      ],
      "execution_count": 146,
      "outputs": [
        {
          "output_type": "stream",
          "text": [
            "0.3\n"
          ],
          "name": "stdout"
        }
      ]
    },
    {
      "cell_type": "code",
      "metadata": {
        "id": "Ct25Gul2ZLWF",
        "colab_type": "code",
        "colab": {
          "base_uri": "https://localhost:8080/",
          "height": 35
        },
        "outputId": "e5ea9340-7ebe-4407-febe-0ee0664a3712"
      },
      "source": [
        "X['F21'].median()"
      ],
      "execution_count": 147,
      "outputs": [
        {
          "output_type": "execute_result",
          "data": {
            "text/plain": [
              "0.1"
            ]
          },
          "metadata": {
            "tags": []
          },
          "execution_count": 147
        }
      ]
    },
    {
      "cell_type": "code",
      "metadata": {
        "id": "x9Yp48mmZLQD",
        "colab_type": "code",
        "colab": {}
      },
      "source": [
        "X['F21'] = np.where(X['F21'] <= Q1-1.5*IQR, 0.0,X['F21'])\n",
        "X['F21'] = np.where(X['F21'] >=Q3+1.5*IQR, 0.3,X['F21'])"
      ],
      "execution_count": 148,
      "outputs": []
    },
    {
      "cell_type": "code",
      "metadata": {
        "id": "4OU_9sD6Z9vU",
        "colab_type": "code",
        "colab": {
          "base_uri": "https://localhost:8080/",
          "height": 297
        },
        "outputId": "cc8eac77-5485-4829-d522-23de59d7f750"
      },
      "source": [
        "import seaborn as sns\n",
        "sns.boxplot(x=X['F21'])"
      ],
      "execution_count": 149,
      "outputs": [
        {
          "output_type": "execute_result",
          "data": {
            "text/plain": [
              "<matplotlib.axes._subplots.AxesSubplot at 0x7f9c8d810278>"
            ]
          },
          "metadata": {
            "tags": []
          },
          "execution_count": 149
        },
        {
          "output_type": "display_data",
          "data": {
            "image/png": "[encoded data removed]",
            "text/plain": [
              "<Figure size 432x288 with 1 Axes>"
            ]
          },
          "metadata": {
            "tags": [],
            "needs_background": "light"
          }
        }
      ]
    },
    {
      "cell_type": "code",
      "metadata": {
        "id": "BszTFh01Z9t0",
        "colab_type": "code",
        "colab": {
          "base_uri": "https://localhost:8080/",
          "height": 182
        },
        "outputId": "1b0648ff-cd9c-4e3a-a4f3-4b9b8e9add20"
      },
      "source": [
        "X['F22'].describe()"
      ],
      "execution_count": 150,
      "outputs": [
        {
          "output_type": "execute_result",
          "data": {
            "text/plain": [
              "count    101180.000000\n",
              "mean          0.179928\n",
              "std           0.238825\n",
              "min           0.000000\n",
              "25%           0.000000\n",
              "50%           0.100000\n",
              "75%           0.300000\n",
              "max           1.000000\n",
              "Name: F22, dtype: float64"
            ]
          },
          "metadata": {
            "tags": []
          },
          "execution_count": 150
        }
      ]
    },
    {
      "cell_type": "code",
      "metadata": {
        "id": "8T5GoHRZZ9pj",
        "colab_type": "code",
        "colab": {
          "base_uri": "https://localhost:8080/",
          "height": 35
        },
        "outputId": "77336d1d-7413-4f40-ae9c-b1033fb3f75c"
      },
      "source": [
        "Q1  =  X['F22'].quantile(0.25)\n",
        "Q3  = X['F22'].quantile(0.75)\n",
        "IQR = Q3 - Q1\n",
        "print(IQR)"
      ],
      "execution_count": 151,
      "outputs": [
        {
          "output_type": "stream",
          "text": [
            "0.3\n"
          ],
          "name": "stdout"
        }
      ]
    },
    {
      "cell_type": "code",
      "metadata": {
        "id": "_fqer0x4Z9mt",
        "colab_type": "code",
        "colab": {
          "base_uri": "https://localhost:8080/",
          "height": 35
        },
        "outputId": "f3d0ce0a-10f6-4ef1-9d3f-66eea6e903f2"
      },
      "source": [
        "X['F22'].median()"
      ],
      "execution_count": 152,
      "outputs": [
        {
          "output_type": "execute_result",
          "data": {
            "text/plain": [
              "0.1"
            ]
          },
          "metadata": {
            "tags": []
          },
          "execution_count": 152
        }
      ]
    },
    {
      "cell_type": "code",
      "metadata": {
        "id": "WJy7MGkdZ9jo",
        "colab_type": "code",
        "colab": {}
      },
      "source": [
        "X['F22'] = np.where(X['F22'] <= Q1-1.5*IQR, 0.0,X['F22'])\n",
        "X['F22'] = np.where(X['F22'] >=Q3+1.5*IQR, 0.3,X['F22'])"
      ],
      "execution_count": 153,
      "outputs": []
    },
    {
      "cell_type": "code",
      "metadata": {
        "id": "Ljjwr9mGZ9hR",
        "colab_type": "code",
        "colab": {
          "base_uri": "https://localhost:8080/",
          "height": 297
        },
        "outputId": "6571adf8-c6bc-4f44-bde3-e1025a6c6a19"
      },
      "source": [
        "import seaborn as sns\n",
        "sns.boxplot(x=X['F22'])"
      ],
      "execution_count": 154,
      "outputs": [
        {
          "output_type": "execute_result",
          "data": {
            "text/plain": [
              "<matplotlib.axes._subplots.AxesSubplot at 0x7f9c8d29be48>"
            ]
          },
          "metadata": {
            "tags": []
          },
          "execution_count": 154
        },
        {
          "output_type": "display_data",
          "data": {
            "image/png": "[encoded data removed]",
            "text/plain": [
              "<Figure size 432x288 with 1 Axes>"
            ]
          },
          "metadata": {
            "tags": [],
            "needs_background": "light"
          }
        }
      ]
    },
    {
      "cell_type": "code",
      "metadata": {
        "id": "4Me9K8opbMTM",
        "colab_type": "code",
        "colab": {}
      },
      "source": [
        "#Now All the outlier have been replaced by suitable value."
      ],
      "execution_count": 155,
      "outputs": []
    },
    {
      "cell_type": "code",
      "metadata": {
        "id": "_h8oesYYZ9d6",
        "colab_type": "code",
        "colab": {
          "base_uri": "https://localhost:8080/",
          "height": 35
        },
        "outputId": "ea5c3a8a-a5f3-48f2-d125-9982823fbf4e"
      },
      "source": [
        "X.shape"
      ],
      "execution_count": 156,
      "outputs": [
        {
          "output_type": "execute_result",
          "data": {
            "text/plain": [
              "(101180, 18)"
            ]
          },
          "metadata": {
            "tags": []
          },
          "execution_count": 156
        }
      ]
    },
    {
      "cell_type": "markdown",
      "metadata": {
        "id": "bcBZE-29X5sj",
        "colab_type": "text"
      },
      "source": [
        "**Linear Model with All Features**"
      ]
    },
    {
      "cell_type": "code",
      "metadata": {
        "id": "bOCG1KspXqlG",
        "colab_type": "code",
        "colab": {}
      },
      "source": [
        "#splitting the data\n",
        "from sklearn import linear_model\n",
        "from sklearn import metrics\n",
        "X_train, X_test, y_train, y_test = train_test_split(X,Y,test_size=.2,stratify=Y)"
      ],
      "execution_count": 157,
      "outputs": []
    },
    {
      "cell_type": "code",
      "metadata": {
        "id": "4cUhuvJBX-b7",
        "colab_type": "code",
        "colab": {
          "base_uri": "https://localhost:8080/",
          "height": 90
        },
        "outputId": "e635ec80-6eb5-4168-e192-0a8541762513"
      },
      "source": [
        "print(X_train.shape)\n",
        "print(X_test.shape)\n",
        "print(y_train.shape)\n",
        "print(y_test.shape)"
      ],
      "execution_count": 158,
      "outputs": [
        {
          "output_type": "stream",
          "text": [
            "(80944, 18)\n",
            "(20236, 18)\n",
            "(80944,)\n",
            "(20236,)\n"
          ],
          "name": "stdout"
        }
      ]
    },
    {
      "cell_type": "code",
      "metadata": {
        "id": "nu-na5YGowMz",
        "colab_type": "code",
        "colab": {
          "base_uri": "https://localhost:8080/",
          "height": 35
        },
        "outputId": "9d142275-e3ba-4bfa-a807-531e8662d5e8"
      },
      "source": [
        "import collections\n",
        "collections.Counter(y_test)"
      ],
      "execution_count": 159,
      "outputs": [
        {
          "output_type": "execute_result",
          "data": {
            "text/plain": [
              "Counter({0: 15271, 1: 4965})"
            ]
          },
          "metadata": {
            "tags": []
          },
          "execution_count": 159
        }
      ]
    },
    {
      "cell_type": "code",
      "metadata": {
        "id": "vivZwaNrYbJj",
        "colab_type": "code",
        "colab": {
          "base_uri": "https://localhost:8080/",
          "height": 127
        },
        "outputId": "ab65cc14-3c5e-4c20-9630-8eb1771d3d71"
      },
      "source": [
        "# Linear model\n",
        "model = linear_model.SGDClassifier()\n",
        "model.fit(X_train, y_train)"
      ],
      "execution_count": 160,
      "outputs": [
        {
          "output_type": "execute_result",
          "data": {
            "text/plain": [
              "SGDClassifier(alpha=0.0001, average=False, class_weight=None,\n",
              "              early_stopping=False, epsilon=0.1, eta0=0.0, fit_intercept=True,\n",
              "              l1_ratio=0.15, learning_rate='optimal', loss='hinge',\n",
              "              max_iter=1000, n_iter_no_change=5, n_jobs=None, penalty='l2',\n",
              "              power_t=0.5, random_state=None, shuffle=True, tol=0.001,\n",
              "              validation_fraction=0.1, verbose=0, warm_start=False)"
            ]
          },
          "metadata": {
            "tags": []
          },
          "execution_count": 160
        }
      ]
    },
    {
      "cell_type": "code",
      "metadata": {
        "id": "UQ0xLsAuYiiB",
        "colab_type": "code",
        "colab": {}
      },
      "source": [
        "y_pred = model.predict(X_test)"
      ],
      "execution_count": 161,
      "outputs": []
    },
    {
      "cell_type": "code",
      "metadata": {
        "id": "fUveOLG7YovB",
        "colab_type": "code",
        "colab": {
          "base_uri": "https://localhost:8080/",
          "height": 35
        },
        "outputId": "591bde92-efd2-4066-c4af-e07e48784823"
      },
      "source": [
        "from sklearn.metrics import accuracy_score\n",
        "accuracy_score(y_test, y_pred)"
      ],
      "execution_count": 162,
      "outputs": [
        {
          "output_type": "execute_result",
          "data": {
            "text/plain": [
              "0.7546451867958095"
            ]
          },
          "metadata": {
            "tags": []
          },
          "execution_count": 162
        }
      ]
    },
    {
      "cell_type": "code",
      "metadata": {
        "id": "dLNbQe8JYq2i",
        "colab_type": "code",
        "colab": {
          "base_uri": "https://localhost:8080/",
          "height": 35
        },
        "outputId": "d6e891bf-ea2d-42d1-adef-64e74cb6afa6"
      },
      "source": [
        "from sklearn.metrics import roc_auc_score\n",
        "roc_auc_score(y_test, y_pred)"
      ],
      "execution_count": 163,
      "outputs": [
        {
          "output_type": "execute_result",
          "data": {
            "text/plain": [
              "0.5"
            ]
          },
          "metadata": {
            "tags": []
          },
          "execution_count": 163
        }
      ]
    },
    {
      "cell_type": "markdown",
      "metadata": {
        "id": "ueTSqJI1Y_hz",
        "colab_type": "text"
      },
      "source": [
        "**Random Forest with all Features**"
      ]
    },
    {
      "cell_type": "code",
      "metadata": {
        "id": "7O3GH69oYzhn",
        "colab_type": "code",
        "colab": {}
      },
      "source": [
        "from sklearn.ensemble import RandomForestClassifier\n",
        "clf = RandomForestClassifier(max_depth=3, random_state=0)\n",
        "clf.fit(X_train, y_train)\n",
        "y_pred1 = clf.predict(X_test)"
      ],
      "execution_count": 164,
      "outputs": []
    },
    {
      "cell_type": "code",
      "metadata": {
        "id": "0A_R6reOY8Y7",
        "colab_type": "code",
        "colab": {
          "base_uri": "https://localhost:8080/",
          "height": 35
        },
        "outputId": "2a0c7e4e-d0ff-417a-c8e7-0f0e3b2f8eab"
      },
      "source": [
        "accuracy_score(y_test, y_pred1)"
      ],
      "execution_count": 165,
      "outputs": [
        {
          "output_type": "execute_result",
          "data": {
            "text/plain": [
              "0.7546451867958095"
            ]
          },
          "metadata": {
            "tags": []
          },
          "execution_count": 165
        }
      ]
    },
    {
      "cell_type": "code",
      "metadata": {
        "id": "U03FlGz-ZKNQ",
        "colab_type": "code",
        "colab": {
          "base_uri": "https://localhost:8080/",
          "height": 35
        },
        "outputId": "44270fd4-6a96-4c65-81de-36f9d137e71e"
      },
      "source": [
        "roc_auc_score(y_test, y_pred1)"
      ],
      "execution_count": 166,
      "outputs": [
        {
          "output_type": "execute_result",
          "data": {
            "text/plain": [
              "0.5"
            ]
          },
          "metadata": {
            "tags": []
          },
          "execution_count": 166
        }
      ]
    },
    {
      "cell_type": "markdown",
      "metadata": {
        "id": "e2mWMZBkZSk3",
        "colab_type": "text"
      },
      "source": [
        "**Finding Important Features then Removing from Dataframe using chi square test**"
      ]
    },
    {
      "cell_type": "code",
      "metadata": {
        "id": "xgMDpaq4ZRv6",
        "colab_type": "code",
        "colab": {
          "base_uri": "https://localhost:8080/",
          "height": 614
        },
        "outputId": "2db1e2d4-efe4-4233-8e5e-f3a80867e573"
      },
      "source": [
        "from sklearn import svm\n",
        "from sklearn.feature_selection import SelectKBest\n",
        "from sklearn.feature_selection import chi2\n",
        "list_one =[]\n",
        "feature_ranking = SelectKBest(chi2, k=5)\n",
        "fit = feature_ranking.fit(X, Y)\n",
        "\n",
        "fmt = '%-8s%-20s%s'\n",
        "\n",
        "for i, (score, feature) in enumerate(zip(feature_ranking.scores_, X.columns)):\n",
        "    list_one.append((score, feature))\n",
        "    \n",
        "dfObj = pd.DataFrame(list_one) \n",
        "dfObj.sort_values(by=[0], ascending = False)"
      ],
      "execution_count": 167,
      "outputs": [
        {
          "output_type": "execute_result",
          "data": {
            "text/html": [
              "<div>\n",
              "<style scoped>\n",
              "    .dataframe tbody tr th:only-of-type {\n",
              "        vertical-align: middle;\n",
              "    }\n",
              "\n",
              "    .dataframe tbody tr th {\n",
              "        vertical-align: top;\n",
              "    }\n",
              "\n",
              "    .dataframe thead th {\n",
              "        text-align: right;\n",
              "    }\n",
              "</style>\n",
              "<table border=\"1\" class=\"dataframe\">\n",
              "  <thead>\n",
              "    <tr style=\"text-align: right;\">\n",
              "      <th></th>\n",
              "      <th>0</th>\n",
              "      <th>1</th>\n",
              "    </tr>\n",
              "  </thead>\n",
              "  <tbody>\n",
              "    <tr>\n",
              "      <th>3</th>\n",
              "      <td>26.004079</td>\n",
              "      <td>F4</td>\n",
              "    </tr>\n",
              "    <tr>\n",
              "      <th>1</th>\n",
              "      <td>10.839022</td>\n",
              "      <td>F2</td>\n",
              "    </tr>\n",
              "    <tr>\n",
              "      <th>16</th>\n",
              "      <td>7.806178</td>\n",
              "      <td>F21</td>\n",
              "    </tr>\n",
              "    <tr>\n",
              "      <th>17</th>\n",
              "      <td>5.658069</td>\n",
              "      <td>F22</td>\n",
              "    </tr>\n",
              "    <tr>\n",
              "      <th>9</th>\n",
              "      <td>1.157955</td>\n",
              "      <td>F10</td>\n",
              "    </tr>\n",
              "    <tr>\n",
              "      <th>11</th>\n",
              "      <td>0.564238</td>\n",
              "      <td>F12</td>\n",
              "    </tr>\n",
              "    <tr>\n",
              "      <th>8</th>\n",
              "      <td>0.354551</td>\n",
              "      <td>F9</td>\n",
              "    </tr>\n",
              "    <tr>\n",
              "      <th>12</th>\n",
              "      <td>0.275347</td>\n",
              "      <td>F13</td>\n",
              "    </tr>\n",
              "    <tr>\n",
              "      <th>0</th>\n",
              "      <td>0.173474</td>\n",
              "      <td>F1</td>\n",
              "    </tr>\n",
              "    <tr>\n",
              "      <th>13</th>\n",
              "      <td>0.139376</td>\n",
              "      <td>F14</td>\n",
              "    </tr>\n",
              "    <tr>\n",
              "      <th>5</th>\n",
              "      <td>0.087923</td>\n",
              "      <td>F6</td>\n",
              "    </tr>\n",
              "    <tr>\n",
              "      <th>2</th>\n",
              "      <td>0.075237</td>\n",
              "      <td>F3</td>\n",
              "    </tr>\n",
              "    <tr>\n",
              "      <th>4</th>\n",
              "      <td>0.018895</td>\n",
              "      <td>F5</td>\n",
              "    </tr>\n",
              "    <tr>\n",
              "      <th>7</th>\n",
              "      <td>0.017646</td>\n",
              "      <td>F8</td>\n",
              "    </tr>\n",
              "    <tr>\n",
              "      <th>6</th>\n",
              "      <td>0.012585</td>\n",
              "      <td>F7</td>\n",
              "    </tr>\n",
              "    <tr>\n",
              "      <th>10</th>\n",
              "      <td>0.002745</td>\n",
              "      <td>F11</td>\n",
              "    </tr>\n",
              "    <tr>\n",
              "      <th>14</th>\n",
              "      <td>NaN</td>\n",
              "      <td>F17</td>\n",
              "    </tr>\n",
              "    <tr>\n",
              "      <th>15</th>\n",
              "      <td>NaN</td>\n",
              "      <td>F18</td>\n",
              "    </tr>\n",
              "  </tbody>\n",
              "</table>\n",
              "</div>"
            ],
            "text/plain": [
              "            0    1\n",
              "3   26.004079   F4\n",
              "1   10.839022   F2\n",
              "16   7.806178  F21\n",
              "17   5.658069  F22\n",
              "9    1.157955  F10\n",
              "11   0.564238  F12\n",
              "8    0.354551   F9\n",
              "12   0.275347  F13\n",
              "0    0.173474   F1\n",
              "13   0.139376  F14\n",
              "5    0.087923   F6\n",
              "2    0.075237   F3\n",
              "4    0.018895   F5\n",
              "7    0.017646   F8\n",
              "6    0.012585   F7\n",
              "10   0.002745  F11\n",
              "14        NaN  F17\n",
              "15        NaN  F18"
            ]
          },
          "metadata": {
            "tags": []
          },
          "execution_count": 167
        }
      ]
    },
    {
      "cell_type": "markdown",
      "metadata": {
        "id": "MK0qLb_wckaE",
        "colab_type": "text"
      },
      "source": [
        "Deleting variable having low score"
      ]
    },
    {
      "cell_type": "code",
      "metadata": {
        "id": "W44KtfnIZORd",
        "colab_type": "code",
        "colab": {}
      },
      "source": [
        "X.drop(['F10','F12','F9','F13','F1','F14','F6','F3','F5','F8','F7','F11','F17','F18'],axis=1,inplace=True)"
      ],
      "execution_count": 168,
      "outputs": []
    },
    {
      "cell_type": "code",
      "metadata": {
        "id": "35wcZ-P4lDP-",
        "colab_type": "code",
        "colab": {
          "base_uri": "https://localhost:8080/",
          "height": 35
        },
        "outputId": "445551ac-8b27-45ed-b04a-06abf6956d1f"
      },
      "source": [
        "X.shape"
      ],
      "execution_count": 169,
      "outputs": [
        {
          "output_type": "execute_result",
          "data": {
            "text/plain": [
              "(101180, 4)"
            ]
          },
          "metadata": {
            "tags": []
          },
          "execution_count": 169
        }
      ]
    },
    {
      "cell_type": "markdown",
      "metadata": {
        "id": "RG0ChyiLph3r",
        "colab_type": "text"
      },
      "source": [
        "Since It is quite imbalanced dataset,We need to split it using SMOTE technique."
      ]
    },
    {
      "cell_type": "code",
      "metadata": {
        "id": "kMmEy5JZpr7X",
        "colab_type": "code",
        "colab": {
          "base_uri": "https://localhost:8080/",
          "height": 110
        },
        "outputId": "6e2fc9c3-eb49-4062-a2f4-a2d24dd36684"
      },
      "source": [
        "from imblearn.over_sampling import SMOTE\n",
        "sm = SMOTE(random_state = 33)"
      ],
      "execution_count": 170,
      "outputs": [
        {
          "output_type": "stream",
          "text": [
            "/usr/local/lib/python3.6/dist-packages/sklearn/externals/six.py:31: FutureWarning: The module is deprecated in version 0.21 and will be removed in version 0.23 since we've dropped support for Python 2.7. Please rely on the official version of six (https://pypi.org/project/six/).\n",
            "  \"(https://pypi.org/project/six/).\", FutureWarning)\n",
            "/usr/local/lib/python3.6/dist-packages/sklearn/utils/deprecation.py:144: FutureWarning: The sklearn.neighbors.base module is  deprecated in version 0.22 and will be removed in version 0.24. The corresponding classes / functions should instead be imported from sklearn.neighbors. Anything that cannot be imported from sklearn.neighbors is now part of the private API.\n",
            "  warnings.warn(message, FutureWarning)\n"
          ],
          "name": "stderr"
        }
      ]
    },
    {
      "cell_type": "code",
      "metadata": {
        "id": "bYubeBhpkhaJ",
        "colab_type": "code",
        "colab": {}
      },
      "source": [
        "X_train1, X_test1, y_train1, y_test1 = train_test_split(X,Y,test_size=.2)"
      ],
      "execution_count": 171,
      "outputs": []
    },
    {
      "cell_type": "code",
      "metadata": {
        "id": "H4Q9vKh-kk5S",
        "colab_type": "code",
        "colab": {
          "base_uri": "https://localhost:8080/",
          "height": 90
        },
        "outputId": "e11b7b58-250a-4dd4-dfee-010ce7a47867"
      },
      "source": [
        "print(X_train1.shape)\n",
        "print(X_test1.shape)\n",
        "print(y_train1.shape)\n",
        "print(y_test1.shape)"
      ],
      "execution_count": 172,
      "outputs": [
        {
          "output_type": "stream",
          "text": [
            "(80944, 4)\n",
            "(20236, 4)\n",
            "(80944,)\n",
            "(20236,)\n"
          ],
          "name": "stdout"
        }
      ]
    },
    {
      "cell_type": "code",
      "metadata": {
        "id": "rXl8l72NrPer",
        "colab_type": "code",
        "colab": {
          "base_uri": "https://localhost:8080/",
          "height": 74
        },
        "outputId": "7f9d0425-ed4b-4799-a429-86e4e73084ad"
      },
      "source": [
        "X_train_new, y_train_new = sm.fit_sample(X_train1, y_train1.ravel())"
      ],
      "execution_count": 173,
      "outputs": [
        {
          "output_type": "stream",
          "text": [
            "/usr/local/lib/python3.6/dist-packages/sklearn/utils/deprecation.py:87: FutureWarning: Function safe_indexing is deprecated; safe_indexing is deprecated in version 0.22 and will be removed in version 0.24.\n",
            "  warnings.warn(msg, category=FutureWarning)\n"
          ],
          "name": "stderr"
        }
      ]
    },
    {
      "cell_type": "code",
      "metadata": {
        "id": "KqPNihHNrkrH",
        "colab_type": "code",
        "colab": {
          "base_uri": "https://localhost:8080/",
          "height": 90
        },
        "outputId": "e781867c-71d3-41a7-d5cd-0f73bbed5f3a"
      },
      "source": [
        "print(X_train_new.shape)\n",
        "print(X_test1.shape)\n",
        "print(y_train_new.shape)\n",
        "print(y_test1.shape)"
      ],
      "execution_count": 174,
      "outputs": [
        {
          "output_type": "stream",
          "text": [
            "(122120, 4)\n",
            "(20236, 4)\n",
            "(122120,)\n",
            "(20236,)\n"
          ],
          "name": "stdout"
        }
      ]
    },
    {
      "cell_type": "code",
      "metadata": {
        "id": "-i5ajx15l4jY",
        "colab_type": "code",
        "colab": {
          "base_uri": "https://localhost:8080/",
          "height": 280
        },
        "outputId": "c4020e3a-ab26-450a-e421-02c429efc3c9"
      },
      "source": [
        "# observe that data has been balanced\n",
        "pd.Series(y_train1).value_counts().plot.bar()"
      ],
      "execution_count": 175,
      "outputs": [
        {
          "output_type": "execute_result",
          "data": {
            "text/plain": [
              "<matplotlib.axes._subplots.AxesSubplot at 0x7f9c8db53f60>"
            ]
          },
          "metadata": {
            "tags": []
          },
          "execution_count": 175
        },
        {
          "output_type": "display_data",
          "data": {
            "image/png": "[encoded data removed]",
            "text/plain": [
              "<Figure size 432x288 with 1 Axes>"
            ]
          },
          "metadata": {
            "tags": [],
            "needs_background": "light"
          }
        }
      ]
    },
    {
      "cell_type": "code",
      "metadata": {
        "id": "PgFpFdrDq4J9",
        "colab_type": "code",
        "colab": {
          "base_uri": "https://localhost:8080/",
          "height": 280
        },
        "outputId": "3ef959b5-c80a-4922-ce4a-d1edbe848679"
      },
      "source": [
        "# observe that data has been balanced\n",
        "pd.Series(y_train_new).value_counts().plot.bar()"
      ],
      "execution_count": 176,
      "outputs": [
        {
          "output_type": "execute_result",
          "data": {
            "text/plain": [
              "<matplotlib.axes._subplots.AxesSubplot at 0x7f9c8d8f4cc0>"
            ]
          },
          "metadata": {
            "tags": []
          },
          "execution_count": 176
        },
        {
          "output_type": "display_data",
          "data": {
            "image/png": "[encoded data removed]",
            "text/plain": [
              "<Figure size 432x288 with 1 Axes>"
            ]
          },
          "metadata": {
            "tags": [],
            "needs_background": "light"
          }
        }
      ]
    },
    {
      "cell_type": "markdown",
      "metadata": {
        "id": "XIMEAQFGr2GP",
        "colab_type": "text"
      },
      "source": [
        "Since our new splitted  training data bt SMOTE is balanced for better training of model"
      ]
    },
    {
      "cell_type": "markdown",
      "metadata": {
        "id": "lBv4FRv4kvB_",
        "colab_type": "text"
      },
      "source": [
        "**Random Forest Classifier with Feature Selection Dataframe**"
      ]
    },
    {
      "cell_type": "code",
      "metadata": {
        "id": "b2ag7KiskudQ",
        "colab_type": "code",
        "colab": {}
      },
      "source": [
        "clf1 = RandomForestClassifier(n_estimators= 100, max_depth = 3 )\n",
        "clf1.fit(X_train_new, y_train_new)\n",
        "y_pred2 = clf1.predict(X_test1)"
      ],
      "execution_count": 177,
      "outputs": []
    },
    {
      "cell_type": "code",
      "metadata": {
        "id": "VkRh0ZBpkp5J",
        "colab_type": "code",
        "colab": {
          "base_uri": "https://localhost:8080/",
          "height": 35
        },
        "outputId": "060c88ed-9960-45ef-9c85-c1f71e1045d3"
      },
      "source": [
        "accuracy_score(y_test1, y_pred2)"
      ],
      "execution_count": 178,
      "outputs": [
        {
          "output_type": "execute_result",
          "data": {
            "text/plain": [
              "0.5396323384067998"
            ]
          },
          "metadata": {
            "tags": []
          },
          "execution_count": 178
        }
      ]
    },
    {
      "cell_type": "code",
      "metadata": {
        "id": "XrHD4AcAk3Y0",
        "colab_type": "code",
        "colab": {
          "base_uri": "https://localhost:8080/",
          "height": 35
        },
        "outputId": "3f4d1099-b259-47bc-e9b9-1bef2f50d2dd"
      },
      "source": [
        "roc_auc_score(y_test1, y_pred2)"
      ],
      "execution_count": 179,
      "outputs": [
        {
          "output_type": "execute_result",
          "data": {
            "text/plain": [
              "0.5179719038323753"
            ]
          },
          "metadata": {
            "tags": []
          },
          "execution_count": 179
        }
      ]
    },
    {
      "cell_type": "code",
      "metadata": {
        "id": "fVw7J2BYsdVY",
        "colab_type": "code",
        "colab": {
          "base_uri": "https://localhost:8080/",
          "height": 280
        },
        "outputId": "eb48c960-77c4-4081-9685-2b43c48c84eb"
      },
      "source": [
        "pd.Series(y_pred2).value_counts().plot.bar()"
      ],
      "execution_count": 180,
      "outputs": [
        {
          "output_type": "execute_result",
          "data": {
            "text/plain": [
              "<matplotlib.axes._subplots.AxesSubplot at 0x7f9c8aa5ce80>"
            ]
          },
          "metadata": {
            "tags": []
          },
          "execution_count": 180
        },
        {
          "output_type": "display_data",
          "data": {
            "image/png": "[encoded data removed]",
            "text/plain": [
              "<Figure size 432x288 with 1 Axes>"
            ]
          },
          "metadata": {
            "tags": [],
            "needs_background": "light"
          }
        }
      ]
    },
    {
      "cell_type": "code",
      "metadata": {
        "id": "pIOwVIG7mgP_",
        "colab_type": "code",
        "colab": {
          "base_uri": "https://localhost:8080/",
          "height": 283
        },
        "outputId": "19d50b24-7202-4556-cd49-38a823c3488f"
      },
      "source": [
        "pd.Series(y_test1).value_counts().plot.bar()"
      ],
      "execution_count": 181,
      "outputs": [
        {
          "output_type": "execute_result",
          "data": {
            "text/plain": [
              "<matplotlib.axes._subplots.AxesSubplot at 0x7f9c8a9c4ef0>"
            ]
          },
          "metadata": {
            "tags": []
          },
          "execution_count": 181
        },
        {
          "output_type": "display_data",
          "data": {
            "image/png": "[encoded data removed]",
            "text/plain": [
              "<Figure size 432x288 with 1 Axes>"
            ]
          },
          "metadata": {
            "tags": [],
            "needs_background": "light"
          }
        }
      ]
    },
    {
      "cell_type": "code",
      "metadata": {
        "id": "pLzeH6xrszZd",
        "colab_type": "code",
        "colab": {
          "base_uri": "https://localhost:8080/",
          "height": 182
        },
        "outputId": "84092568-752b-4331-a25e-e4c465d6674c"
      },
      "source": [
        "from sklearn.metrics import classification_report,confusion_matrix\n",
        "print(classification_report(y_test1, y_pred2))"
      ],
      "execution_count": 182,
      "outputs": [
        {
          "output_type": "stream",
          "text": [
            "              precision    recall  f1-score   support\n",
            "\n",
            "           0       0.77      0.56      0.65     15293\n",
            "           1       0.26      0.48      0.34      4943\n",
            "\n",
            "    accuracy                           0.54     20236\n",
            "   macro avg       0.51      0.52      0.49     20236\n",
            "weighted avg       0.64      0.54      0.57     20236\n",
            "\n"
          ],
          "name": "stdout"
        }
      ]
    },
    {
      "cell_type": "code",
      "metadata": {
        "id": "p50zjnqnmiNS",
        "colab_type": "code",
        "colab": {}
      },
      "source": [
        "from pandas import read_csv\n",
        "from xgboost import XGBClassifier\n",
        "from sklearn.model_selection import GridSearchCV\n",
        "from sklearn.model_selection import StratifiedKFold"
      ],
      "execution_count": 183,
      "outputs": []
    },
    {
      "cell_type": "markdown",
      "metadata": {
        "id": "s_xuJZ8F5bcu",
        "colab_type": "text"
      },
      "source": [
        "**Estimating MAX. DEPT and N_Estomator for Best accuracy**"
      ]
    },
    {
      "cell_type": "code",
      "metadata": {
        "id": "r8fpKowyk5uY",
        "colab_type": "code",
        "colab": {
          "base_uri": "https://localhost:8080/",
          "height": 443
        },
        "outputId": "824ef2bf-7256-4572-c532-530c9f0bccb8"
      },
      "source": [
        "# grid search\n",
        "model = XGBClassifier()\n",
        "n_estimators = range(50, 400, 50)\n",
        "param_grid = dict(n_estimators=n_estimators)\n",
        "kfold = StratifiedKFold(n_splits=10, shuffle=True, random_state=7)\n",
        "grid_search = GridSearchCV(model, param_grid, scoring=\"neg_log_loss\", n_jobs=-1, cv=kfold)\n",
        "grid_result = grid_search.fit(X_train1, y_train1)\n",
        "# summarize results\n",
        "print(\"Best: %f using %s\" % (grid_result.best_score_, grid_result.best_params_))\n",
        "means = grid_result.cv_results_['mean_test_score']\n",
        "stds = grid_result.cv_results_['std_test_score']\n",
        "params = grid_result.cv_results_['params']\n",
        "for mean, stdev, param in zip(means, stds, params):\n",
        "\tprint(\"%f (%f) with: %r\" % (mean, stdev, param))\n",
        "# plot\n",
        "\n",
        "from matplotlib import pyplot\n",
        "pyplot.errorbar(n_estimators, means, yerr=stds)\n",
        "pyplot.title(\"XGBoost n_estimators vs Log Loss\")\n",
        "pyplot.xlabel('n_estimators')\n",
        "pyplot.ylabel('Log Loss')\n",
        "pyplot.savefig('n_estimators.png')"
      ],
      "execution_count": 184,
      "outputs": [
        {
          "output_type": "stream",
          "text": [
            "Best: -0.555201 using {'n_estimators': 50}\n",
            "-0.555201 (0.000728) with: {'n_estimators': 50}\n",
            "-0.555379 (0.000921) with: {'n_estimators': 100}\n",
            "-0.555585 (0.001016) with: {'n_estimators': 150}\n",
            "-0.555819 (0.001100) with: {'n_estimators': 200}\n",
            "-0.556047 (0.001133) with: {'n_estimators': 250}\n",
            "-0.556233 (0.001222) with: {'n_estimators': 300}\n",
            "-0.556430 (0.001247) with: {'n_estimators': 350}\n"
          ],
          "name": "stdout"
        },
        {
          "output_type": "display_data",
          "data": {
            "image/png": "[encoded data removed]",
            "text/plain": [
              "<Figure size 432x288 with 1 Axes>"
            ]
          },
          "metadata": {
            "tags": [],
            "needs_background": "light"
          }
        }
      ]
    },
    {
      "cell_type": "code",
      "metadata": {
        "id": "HFsdGm2LrB9R",
        "colab_type": "code",
        "colab": {
          "base_uri": "https://localhost:8080/",
          "height": 498
        },
        "outputId": "f2a5f9e9-7831-4b92-82c1-23c944631f40"
      },
      "source": [
        "# grid search\n",
        "model = XGBClassifier()\n",
        "max_depth = range(1, 11, 2)\n",
        "print(max_depth)\n",
        "param_grid = dict(max_depth=max_depth)\n",
        "kfold = StratifiedKFold(n_splits=10, shuffle=True, random_state=7)\n",
        "grid_search = GridSearchCV(model, param_grid, scoring=\"neg_log_loss\", n_jobs=-1, cv=kfold, verbose=1)\n",
        "grid_result = grid_search.fit(X_train1, y_train1)\n",
        "# summarize results\n",
        "print(\"Best: %f using %s\" % (grid_result.best_score_, grid_result.best_params_))\n",
        "means = grid_result.cv_results_['mean_test_score']\n",
        "stds = grid_result.cv_results_['std_test_score']\n",
        "params = grid_result.cv_results_['params']\n",
        "for mean, stdev, param in zip(means, stds, params):\n",
        "\tprint(\"%f (%f) with: %r\" % (mean, stdev, param))\n",
        "# plot\n",
        "from matplotlib import pyplot\n",
        "pyplot.errorbar(max_depth, means, yerr=stds)\n",
        "pyplot.title(\"XGBoost max_depth vs Log Loss\")\n",
        "pyplot.xlabel('max_depth')\n",
        "pyplot.ylabel('Log Loss')\n",
        "pyplot.savefig('max_depth.png')"
      ],
      "execution_count": 76,
      "outputs": [
        {
          "output_type": "stream",
          "text": [
            "range(1, 11, 2)\n",
            "Fitting 10 folds for each of 5 candidates, totalling 50 fits\n"
          ],
          "name": "stdout"
        },
        {
          "output_type": "stream",
          "text": [
            "[Parallel(n_jobs=-1)]: Using backend LokyBackend with 2 concurrent workers.\n",
            "[Parallel(n_jobs=-1)]: Done  46 tasks      | elapsed:  3.8min\n",
            "[Parallel(n_jobs=-1)]: Done  50 out of  50 | elapsed:  4.4min finished\n"
          ],
          "name": "stderr"
        },
        {
          "output_type": "stream",
          "text": [
            "Best: -0.489832 using {'max_depth': 5}\n",
            "-0.508821 (0.002901) with: {'max_depth': 1}\n",
            "-0.489897 (0.001982) with: {'max_depth': 3}\n",
            "-0.489832 (0.002407) with: {'max_depth': 5}\n",
            "-0.491283 (0.002673) with: {'max_depth': 7}\n",
            "-0.493968 (0.002810) with: {'max_depth': 9}\n"
          ],
          "name": "stdout"
        },
        {
          "output_type": "display_data",
          "data": {
            "image/png": "[encoded data removed]",
            "text/plain": [
              "<Figure size 432x288 with 1 Axes>"
            ]
          },
          "metadata": {
            "tags": [],
            "needs_background": "light"
          }
        }
      ]
    },
    {
      "cell_type": "code",
      "metadata": {
        "id": "Ws-0PEyTrfK6",
        "colab_type": "code",
        "colab": {
          "base_uri": "https://localhost:8080/",
          "height": 684
        },
        "outputId": "9431e3f1-a190-44fd-ddd4-1a97411c1f70"
      },
      "source": [
        "# grid search\n",
        "model = XGBClassifier()\n",
        "n_estimators = [50, 100, 150, 200]\n",
        "max_depth = [2, 4, 6, 8]\n",
        "print(max_depth)\n",
        "param_grid = dict(max_depth=max_depth, n_estimators=n_estimators)\n",
        "kfold = StratifiedKFold(n_splits=10, shuffle=True, random_state=7)\n",
        "grid_search = GridSearchCV(model, param_grid, scoring=\"neg_log_loss\", n_jobs=-1, cv=kfold, verbose=1)\n",
        "grid_result = grid_search.fit(X_train1, y_train1)\n",
        "# summarize results\n",
        "print(\"Best: %f using %s\" % (grid_result.best_score_, grid_result.best_params_))\n",
        "means = grid_result.cv_results_['mean_test_score']\n",
        "stds = grid_result.cv_results_['std_test_score']\n",
        "params = grid_result.cv_results_['params']\n",
        "for mean, stdev, param in zip(means, stds, params):\n",
        "\tprint(\"%f (%f) with: %r\" % (mean, stdev, param))\n",
        "# plot results\n",
        "scores = np.array(means).reshape(len(max_depth), len(n_estimators))\n",
        "for i, value in enumerate(max_depth):\n",
        "    pyplot.plot(n_estimators, scores[i], label='depth: ' + str(value))\n",
        "pyplot.legend()\n",
        "pyplot.xlabel('n_estimators')\n",
        "pyplot.ylabel('Log Loss')\n",
        "pyplot.savefig('n_estimators_vs_max_depth.png')"
      ],
      "execution_count": 78,
      "outputs": [
        {
          "output_type": "stream",
          "text": [
            "[2, 4, 6, 8]\n",
            "Fitting 10 folds for each of 16 candidates, totalling 160 fits\n"
          ],
          "name": "stdout"
        },
        {
          "output_type": "stream",
          "text": [
            "[Parallel(n_jobs=-1)]: Using backend LokyBackend with 2 concurrent workers.\n",
            "[Parallel(n_jobs=-1)]: Done  46 tasks      | elapsed:  2.1min\n",
            "[Parallel(n_jobs=-1)]: Done 160 out of 160 | elapsed: 17.1min finished\n"
          ],
          "name": "stderr"
        },
        {
          "output_type": "stream",
          "text": [
            "Best: -0.489021 using {'max_depth': 4, 'n_estimators': 50}\n",
            "-0.493074 (0.001754) with: {'max_depth': 2, 'n_estimators': 50}\n",
            "-0.491894 (0.002006) with: {'max_depth': 2, 'n_estimators': 100}\n",
            "-0.491834 (0.002070) with: {'max_depth': 2, 'n_estimators': 150}\n",
            "-0.491719 (0.002162) with: {'max_depth': 2, 'n_estimators': 200}\n",
            "-0.489021 (0.001935) with: {'max_depth': 4, 'n_estimators': 50}\n",
            "-0.489329 (0.002188) with: {'max_depth': 4, 'n_estimators': 100}\n",
            "-0.489834 (0.002254) with: {'max_depth': 4, 'n_estimators': 150}\n",
            "-0.490371 (0.002361) with: {'max_depth': 4, 'n_estimators': 200}\n",
            "-0.489616 (0.002105) with: {'max_depth': 6, 'n_estimators': 50}\n",
            "-0.490414 (0.002505) with: {'max_depth': 6, 'n_estimators': 100}\n",
            "-0.491589 (0.002666) with: {'max_depth': 6, 'n_estimators': 150}\n",
            "-0.492819 (0.002633) with: {'max_depth': 6, 'n_estimators': 200}\n",
            "-0.490668 (0.002163) with: {'max_depth': 8, 'n_estimators': 50}\n",
            "-0.492362 (0.002329) with: {'max_depth': 8, 'n_estimators': 100}\n",
            "-0.494463 (0.002295) with: {'max_depth': 8, 'n_estimators': 150}\n",
            "-0.496301 (0.002325) with: {'max_depth': 8, 'n_estimators': 200}\n"
          ],
          "name": "stdout"
        },
        {
          "output_type": "display_data",
          "data": {
            "image/png": "[encoded data removed]",
            "text/plain": [
              "<Figure size 432x288 with 1 Axes>"
            ]
          },
          "metadata": {
            "tags": [],
            "needs_background": "light"
          }
        }
      ]
    },
    {
      "cell_type": "markdown",
      "metadata": {
        "id": "ZXMp-JuLm1cs",
        "colab_type": "text"
      },
      "source": [
        "**XGBoost Classifier with Feature Selection Dataframe**"
      ]
    },
    {
      "cell_type": "code",
      "metadata": {
        "id": "BsMZFAL8rBNL",
        "colab_type": "code",
        "colab": {
          "base_uri": "https://localhost:8080/",
          "height": 146
        },
        "outputId": "65373fd8-d3dd-4e59-e018-b7872bea44b4"
      },
      "source": [
        "model = XGBClassifier(learning_rate = 0.1, n_estimators=10, min_child_weight=2,  max_depth=3)\n",
        "model.fit(X_train_new, y_train_new)"
      ],
      "execution_count": 185,
      "outputs": [
        {
          "output_type": "execute_result",
          "data": {
            "text/plain": [
              "XGBClassifier(base_score=0.5, booster='gbtree', colsample_bylevel=1,\n",
              "              colsample_bynode=1, colsample_bytree=1, gamma=0,\n",
              "              learning_rate=0.1, max_delta_step=0, max_depth=3,\n",
              "              min_child_weight=2, missing=None, n_estimators=10, n_jobs=1,\n",
              "              nthread=None, objective='binary:logistic', random_state=0,\n",
              "              reg_alpha=0, reg_lambda=1, scale_pos_weight=1, seed=None,\n",
              "              silent=None, subsample=1, verbosity=1)"
            ]
          },
          "metadata": {
            "tags": []
          },
          "execution_count": 185
        }
      ]
    },
    {
      "cell_type": "code",
      "metadata": {
        "id": "v3iIkBjztmDU",
        "colab_type": "code",
        "colab": {
          "base_uri": "https://localhost:8080/",
          "height": 90
        },
        "outputId": "b94929f1-b5c4-49ea-cd3c-ddab55584139"
      },
      "source": [
        "print(X_train_new.shape)\n",
        "print(X_test1.shape)\n",
        "print(y_train_new.shape)\n",
        "print(y_test1.shape)"
      ],
      "execution_count": 186,
      "outputs": [
        {
          "output_type": "stream",
          "text": [
            "(122120, 4)\n",
            "(20236, 4)\n",
            "(122120,)\n",
            "(20236,)\n"
          ],
          "name": "stdout"
        }
      ]
    },
    {
      "cell_type": "code",
      "metadata": {
        "id": "zXX7wizavqlw",
        "colab_type": "code",
        "colab": {}
      },
      "source": [
        "X_test1 = X_test1.to_numpy( )"
      ],
      "execution_count": 187,
      "outputs": []
    },
    {
      "cell_type": "code",
      "metadata": {
        "id": "Odz7H9zovxHN",
        "colab_type": "code",
        "colab": {
          "base_uri": "https://localhost:8080/",
          "height": 146
        },
        "outputId": "13847309-8a8d-43af-b781-d3dc18d6c78c"
      },
      "source": [
        "X_test1"
      ],
      "execution_count": 188,
      "outputs": [
        {
          "output_type": "execute_result",
          "data": {
            "text/plain": [
              "array([[0.87385221, 0.5938324 , 0.4       , 0.5       ],\n",
              "       [0.26893713, 0.20711994, 0.        , 0.05      ],\n",
              "       [0.27931021, 0.82245757, 0.        , 0.15      ],\n",
              "       ...,\n",
              "       [0.33669977, 0.21284836, 0.        , 0.        ],\n",
              "       [0.98120531, 0.08064346, 0.2       , 0.4       ],\n",
              "       [0.19662951, 0.671224  , 0.15      , 0.        ]])"
            ]
          },
          "metadata": {
            "tags": []
          },
          "execution_count": 188
        }
      ]
    },
    {
      "cell_type": "code",
      "metadata": {
        "id": "2zLMIuJdmc-2",
        "colab_type": "code",
        "colab": {}
      },
      "source": [
        "y_pred3 = model.predict(X_test1)"
      ],
      "execution_count": 189,
      "outputs": []
    },
    {
      "cell_type": "code",
      "metadata": {
        "id": "QAcpPUJm1clS",
        "colab_type": "code",
        "colab": {
          "base_uri": "https://localhost:8080/",
          "height": 35
        },
        "outputId": "3e63b317-ba45-46c6-e5f5-b0f6acf13a2f"
      },
      "source": [
        "accuracy_score(y_test1, y_pred3)"
      ],
      "execution_count": 190,
      "outputs": [
        {
          "output_type": "execute_result",
          "data": {
            "text/plain": [
              "0.6203301047637874"
            ]
          },
          "metadata": {
            "tags": []
          },
          "execution_count": 190
        }
      ]
    },
    {
      "cell_type": "code",
      "metadata": {
        "id": "2iADQkip1lk3",
        "colab_type": "code",
        "colab": {
          "base_uri": "https://localhost:8080/",
          "height": 35
        },
        "outputId": "9c9c45f8-9200-4930-a742-e0ba1b67a13c"
      },
      "source": [
        "roc_auc_score(y_test1, y_pred3)"
      ],
      "execution_count": 191,
      "outputs": [
        {
          "output_type": "execute_result",
          "data": {
            "text/plain": [
              "0.5180332121766508"
            ]
          },
          "metadata": {
            "tags": []
          },
          "execution_count": 191
        }
      ]
    },
    {
      "cell_type": "code",
      "metadata": {
        "id": "uPFxK_nxe9TX",
        "colab_type": "code",
        "colab": {
          "base_uri": "https://localhost:8080/",
          "height": 35
        },
        "outputId": "4bbf5eb3-dadc-4ca7-8023-b553815a7d05"
      },
      "source": [
        "import collections\n",
        "collections.Counter(y_test1)\n"
      ],
      "execution_count": 192,
      "outputs": [
        {
          "output_type": "execute_result",
          "data": {
            "text/plain": [
              "Counter({0: 15293, 1: 4943})"
            ]
          },
          "metadata": {
            "tags": []
          },
          "execution_count": 192
        }
      ]
    },
    {
      "cell_type": "code",
      "metadata": {
        "id": "BMlYDGvCeJ7s",
        "colab_type": "code",
        "colab": {
          "base_uri": "https://localhost:8080/",
          "height": 35
        },
        "outputId": "23eae438-f3af-4747-f4a5-d045602a1fa1"
      },
      "source": [
        "import collections\n",
        "collections.Counter(y_pred3)"
      ],
      "execution_count": 193,
      "outputs": [
        {
          "output_type": "execute_result",
          "data": {
            "text/plain": [
              "Counter({0: 14352, 1: 5884})"
            ]
          },
          "metadata": {
            "tags": []
          },
          "execution_count": 193
        }
      ]
    },
    {
      "cell_type": "code",
      "metadata": {
        "id": "fU4q9hmIDSfR",
        "colab_type": "code",
        "colab": {
          "base_uri": "https://localhost:8080/",
          "height": 182
        },
        "outputId": "eb8ca522-599b-4686-fbae-7daf3be290e1"
      },
      "source": [
        "from sklearn.metrics import classification_report,confusion_matrix\n",
        "print(classification_report(y_test1, y_pred3))"
      ],
      "execution_count": 194,
      "outputs": [
        {
          "output_type": "stream",
          "text": [
            "              precision    recall  f1-score   support\n",
            "\n",
            "           0       0.77      0.72      0.74     15293\n",
            "           1       0.27      0.32      0.29      4943\n",
            "\n",
            "    accuracy                           0.62     20236\n",
            "   macro avg       0.52      0.52      0.52     20236\n",
            "weighted avg       0.64      0.62      0.63     20236\n",
            "\n"
          ],
          "name": "stdout"
        }
      ]
    },
    {
      "cell_type": "markdown",
      "metadata": {
        "id": "2oT1pEFTnFY1",
        "colab_type": "text"
      },
      "source": [
        "**Making Prediction to test_Affinity.txt**"
      ]
    },
    {
      "cell_type": "code",
      "metadata": {
        "id": "8kGHC-cv1obB",
        "colab_type": "code",
        "colab": {}
      },
      "source": [
        "X_test = pd.read_csv('/content/BuyAffinity_Test.txt', sep = '\\t')"
      ],
      "execution_count": 195,
      "outputs": []
    },
    {
      "cell_type": "code",
      "metadata": {
        "id": "zsuo5H4W3xqc",
        "colab_type": "code",
        "colab": {
          "base_uri": "https://localhost:8080/",
          "height": 226
        },
        "outputId": "58d5409b-f5e3-44d6-a703-0f2d55601534"
      },
      "source": [
        "X_test.head()"
      ],
      "execution_count": 196,
      "outputs": [
        {
          "output_type": "execute_result",
          "data": {
            "text/html": [
              "<div>\n",
              "<style scoped>\n",
              "    .dataframe tbody tr th:only-of-type {\n",
              "        vertical-align: middle;\n",
              "    }\n",
              "\n",
              "    .dataframe tbody tr th {\n",
              "        vertical-align: top;\n",
              "    }\n",
              "\n",
              "    .dataframe thead th {\n",
              "        text-align: right;\n",
              "    }\n",
              "</style>\n",
              "<table border=\"1\" class=\"dataframe\">\n",
              "  <thead>\n",
              "    <tr style=\"text-align: right;\">\n",
              "      <th></th>\n",
              "      <th>Index</th>\n",
              "      <th>F1</th>\n",
              "      <th>F2</th>\n",
              "      <th>F3</th>\n",
              "      <th>F4</th>\n",
              "      <th>F5</th>\n",
              "      <th>F6</th>\n",
              "      <th>F7</th>\n",
              "      <th>F8</th>\n",
              "      <th>F9</th>\n",
              "      <th>F10</th>\n",
              "      <th>F11</th>\n",
              "      <th>F12</th>\n",
              "      <th>F13</th>\n",
              "      <th>F14</th>\n",
              "      <th>F15</th>\n",
              "      <th>F16</th>\n",
              "      <th>F17</th>\n",
              "      <th>F18</th>\n",
              "      <th>F19</th>\n",
              "      <th>F20</th>\n",
              "      <th>F21</th>\n",
              "      <th>F22</th>\n",
              "    </tr>\n",
              "  </thead>\n",
              "  <tbody>\n",
              "    <tr>\n",
              "      <th>0</th>\n",
              "      <td>T30234341</td>\n",
              "      <td>0.654765</td>\n",
              "      <td>0.812009</td>\n",
              "      <td>0.603190</td>\n",
              "      <td>0.391039</td>\n",
              "      <td>-5220</td>\n",
              "      <td>4825</td>\n",
              "      <td>-1784</td>\n",
              "      <td>7447</td>\n",
              "      <td>-7147</td>\n",
              "      <td>-3461806391</td>\n",
              "      <td>8178108368</td>\n",
              "      <td>-8674321652</td>\n",
              "      <td>8074343777</td>\n",
              "      <td>5553595074</td>\n",
              "      <td>9/17/1996</td>\n",
              "      <td>8/18/1990</td>\n",
              "      <td>1</td>\n",
              "      <td>1</td>\n",
              "      <td>436</td>\n",
              "      <td>478</td>\n",
              "      <td>1</td>\n",
              "      <td>1</td>\n",
              "    </tr>\n",
              "    <tr>\n",
              "      <th>1</th>\n",
              "      <td>T30234342</td>\n",
              "      <td>0.694636</td>\n",
              "      <td>0.690568</td>\n",
              "      <td>0.473460</td>\n",
              "      <td>0.259760</td>\n",
              "      <td>-618</td>\n",
              "      <td>-5018</td>\n",
              "      <td>2012</td>\n",
              "      <td>9259</td>\n",
              "      <td>9267</td>\n",
              "      <td>-36253473</td>\n",
              "      <td>-6531193961</td>\n",
              "      <td>1849753082</td>\n",
              "      <td>-5556861821</td>\n",
              "      <td>2216284070</td>\n",
              "      <td>11/7/1985</td>\n",
              "      <td>4/11/1990</td>\n",
              "      <td>1</td>\n",
              "      <td>1</td>\n",
              "      <td>138</td>\n",
              "      <td>56</td>\n",
              "      <td>10</td>\n",
              "      <td>4</td>\n",
              "    </tr>\n",
              "    <tr>\n",
              "      <th>2</th>\n",
              "      <td>T30234343</td>\n",
              "      <td>0.203759</td>\n",
              "      <td>0.323301</td>\n",
              "      <td>0.492294</td>\n",
              "      <td>0.011448</td>\n",
              "      <td>-8778</td>\n",
              "      <td>6141</td>\n",
              "      <td>6965</td>\n",
              "      <td>3774</td>\n",
              "      <td>4303</td>\n",
              "      <td>5354243488</td>\n",
              "      <td>8053401796</td>\n",
              "      <td>782597920</td>\n",
              "      <td>-2121815725</td>\n",
              "      <td>-315409510</td>\n",
              "      <td>7/9/1984</td>\n",
              "      <td>5/4/1997</td>\n",
              "      <td>1</td>\n",
              "      <td>1</td>\n",
              "      <td>117</td>\n",
              "      <td>323</td>\n",
              "      <td>10</td>\n",
              "      <td>1</td>\n",
              "    </tr>\n",
              "    <tr>\n",
              "      <th>3</th>\n",
              "      <td>T30234344</td>\n",
              "      <td>0.319627</td>\n",
              "      <td>0.286247</td>\n",
              "      <td>0.906197</td>\n",
              "      <td>0.093840</td>\n",
              "      <td>-7929</td>\n",
              "      <td>4471</td>\n",
              "      <td>7715</td>\n",
              "      <td>9543</td>\n",
              "      <td>335</td>\n",
              "      <td>7405036171</td>\n",
              "      <td>-2666864618</td>\n",
              "      <td>-8649240595</td>\n",
              "      <td>1389754605</td>\n",
              "      <td>-3360224957</td>\n",
              "      <td>6/3/1987</td>\n",
              "      <td>7/1/1988</td>\n",
              "      <td>1</td>\n",
              "      <td>1</td>\n",
              "      <td>115</td>\n",
              "      <td>149</td>\n",
              "      <td>16</td>\n",
              "      <td>21</td>\n",
              "    </tr>\n",
              "    <tr>\n",
              "      <th>4</th>\n",
              "      <td>T30234345</td>\n",
              "      <td>0.236003</td>\n",
              "      <td>0.782784</td>\n",
              "      <td>0.285689</td>\n",
              "      <td>0.383585</td>\n",
              "      <td>-3296</td>\n",
              "      <td>4564</td>\n",
              "      <td>-1580</td>\n",
              "      <td>-8559</td>\n",
              "      <td>-27</td>\n",
              "      <td>-6351599280</td>\n",
              "      <td>-2152422738</td>\n",
              "      <td>4768902493</td>\n",
              "      <td>3653338555</td>\n",
              "      <td>7604838279</td>\n",
              "      <td>7/17/1984</td>\n",
              "      <td>12/3/1993</td>\n",
              "      <td>1</td>\n",
              "      <td>1</td>\n",
              "      <td>527</td>\n",
              "      <td>281</td>\n",
              "      <td>3</td>\n",
              "      <td>1</td>\n",
              "    </tr>\n",
              "  </tbody>\n",
              "</table>\n",
              "</div>"
            ],
            "text/plain": [
              "       Index        F1        F2        F3        F4  ...  F18  F19  F20  F21  F22\n",
              "0  T30234341  0.654765  0.812009  0.603190  0.391039  ...    1  436  478    1    1\n",
              "1  T30234342  0.694636  0.690568  0.473460  0.259760  ...    1  138   56   10    4\n",
              "2  T30234343  0.203759  0.323301  0.492294  0.011448  ...    1  117  323   10    1\n",
              "3  T30234344  0.319627  0.286247  0.906197  0.093840  ...    1  115  149   16   21\n",
              "4  T30234345  0.236003  0.782784  0.285689  0.383585  ...    1  527  281    3    1\n",
              "\n",
              "[5 rows x 23 columns]"
            ]
          },
          "metadata": {
            "tags": []
          },
          "execution_count": 196
        }
      ]
    },
    {
      "cell_type": "code",
      "metadata": {
        "id": "LrTRfTxv4Oxm",
        "colab_type": "code",
        "colab": {}
      },
      "source": [
        "X_test.drop(['Index'], axis = 1,inplace = True)"
      ],
      "execution_count": 197,
      "outputs": []
    },
    {
      "cell_type": "code",
      "metadata": {
        "id": "KuHfa2gX6ZOG",
        "colab_type": "code",
        "colab": {}
      },
      "source": [
        "X_test.drop(['F15','F16'], axis = 1,inplace = True)"
      ],
      "execution_count": 198,
      "outputs": []
    },
    {
      "cell_type": "code",
      "metadata": {
        "id": "a73pexTz6eMp",
        "colab_type": "code",
        "colab": {}
      },
      "source": [
        "X_test.drop(['F10','F12','F9','F13','F1','F14','F6','F3','F5','F8','F7','F11','F17','F18', 'F19','F20'],axis=1,inplace=True)"
      ],
      "execution_count": 199,
      "outputs": []
    },
    {
      "cell_type": "code",
      "metadata": {
        "id": "ypun34Rt66OJ",
        "colab_type": "code",
        "colab": {}
      },
      "source": [
        "X_=NormalizeData(X_test)"
      ],
      "execution_count": 200,
      "outputs": []
    },
    {
      "cell_type": "code",
      "metadata": {
        "id": "NF43G6UsxsXF",
        "colab_type": "code",
        "colab": {
          "base_uri": "https://localhost:8080/",
          "height": 206
        },
        "outputId": "2f8f5efe-9f4d-4b77-84bd-7a63d7f15bd3"
      },
      "source": [
        "X_.head()"
      ],
      "execution_count": 201,
      "outputs": [
        {
          "output_type": "execute_result",
          "data": {
            "text/html": [
              "<div>\n",
              "<style scoped>\n",
              "    .dataframe tbody tr th:only-of-type {\n",
              "        vertical-align: middle;\n",
              "    }\n",
              "\n",
              "    .dataframe tbody tr th {\n",
              "        vertical-align: top;\n",
              "    }\n",
              "\n",
              "    .dataframe thead th {\n",
              "        text-align: right;\n",
              "    }\n",
              "</style>\n",
              "<table border=\"1\" class=\"dataframe\">\n",
              "  <thead>\n",
              "    <tr style=\"text-align: right;\">\n",
              "      <th></th>\n",
              "      <th>F2</th>\n",
              "      <th>F4</th>\n",
              "      <th>F21</th>\n",
              "      <th>F22</th>\n",
              "    </tr>\n",
              "  </thead>\n",
              "  <tbody>\n",
              "    <tr>\n",
              "      <th>0</th>\n",
              "      <td>0.812013</td>\n",
              "      <td>0.391073</td>\n",
              "      <td>0.00</td>\n",
              "      <td>0.00</td>\n",
              "    </tr>\n",
              "    <tr>\n",
              "      <th>1</th>\n",
              "      <td>0.690569</td>\n",
              "      <td>0.259767</td>\n",
              "      <td>0.45</td>\n",
              "      <td>0.15</td>\n",
              "    </tr>\n",
              "    <tr>\n",
              "      <th>2</th>\n",
              "      <td>0.323294</td>\n",
              "      <td>0.011406</td>\n",
              "      <td>0.45</td>\n",
              "      <td>0.00</td>\n",
              "    </tr>\n",
              "    <tr>\n",
              "      <th>3</th>\n",
              "      <td>0.286239</td>\n",
              "      <td>0.093815</td>\n",
              "      <td>0.75</td>\n",
              "      <td>1.00</td>\n",
              "    </tr>\n",
              "    <tr>\n",
              "      <th>4</th>\n",
              "      <td>0.782787</td>\n",
              "      <td>0.383617</td>\n",
              "      <td>0.10</td>\n",
              "      <td>0.00</td>\n",
              "    </tr>\n",
              "  </tbody>\n",
              "</table>\n",
              "</div>"
            ],
            "text/plain": [
              "         F2        F4   F21   F22\n",
              "0  0.812013  0.391073  0.00  0.00\n",
              "1  0.690569  0.259767  0.45  0.15\n",
              "2  0.323294  0.011406  0.45  0.00\n",
              "3  0.286239  0.093815  0.75  1.00\n",
              "4  0.782787  0.383617  0.10  0.00"
            ]
          },
          "metadata": {
            "tags": []
          },
          "execution_count": 201
        }
      ]
    },
    {
      "cell_type": "code",
      "metadata": {
        "id": "tx_Q8fp-7QXS",
        "colab_type": "code",
        "colab": {}
      },
      "source": [
        "X_ = X_.to_numpy( )"
      ],
      "execution_count": 202,
      "outputs": []
    },
    {
      "cell_type": "code",
      "metadata": {
        "id": "iuvX9ug37SXQ",
        "colab_type": "code",
        "colab": {}
      },
      "source": [
        "y_pred_Final = model.predict(X_)"
      ],
      "execution_count": 203,
      "outputs": []
    },
    {
      "cell_type": "code",
      "metadata": {
        "id": "ZOo_bSUH7pJA",
        "colab_type": "code",
        "colab": {
          "base_uri": "https://localhost:8080/",
          "height": 35
        },
        "outputId": "6fa217c4-09c0-40c4-caeb-148a1da0c199"
      },
      "source": [
        "y_pred_Final"
      ],
      "execution_count": 204,
      "outputs": [
        {
          "output_type": "execute_result",
          "data": {
            "text/plain": [
              "array([1, 0, 0, ..., 0, 0, 0])"
            ]
          },
          "metadata": {
            "tags": []
          },
          "execution_count": 204
        }
      ]
    },
    {
      "cell_type": "code",
      "metadata": {
        "id": "6QwD2RXkmq2k",
        "colab_type": "code",
        "colab": {
          "base_uri": "https://localhost:8080/",
          "height": 280
        },
        "outputId": "40a0b671-3986-4ee5-a952-d23fbee4aa51"
      },
      "source": [
        "pd.Series(y_pred_Final).value_counts().plot.bar()"
      ],
      "execution_count": 205,
      "outputs": [
        {
          "output_type": "execute_result",
          "data": {
            "text/plain": [
              "<matplotlib.axes._subplots.AxesSubplot at 0x7f9c8a9311d0>"
            ]
          },
          "metadata": {
            "tags": []
          },
          "execution_count": 205
        },
        {
          "output_type": "display_data",
          "data": {
            "image/png": "[encoded data removed]",
            "text/plain": [
              "<Figure size 432x288 with 1 Axes>"
            ]
          },
          "metadata": {
            "tags": [],
            "needs_background": "light"
          }
        }
      ]
    },
    {
      "cell_type": "code",
      "metadata": {
        "id": "3zOyrCVI_-95",
        "colab_type": "code",
        "colab": {}
      },
      "source": [
        "X_ = pd.read_csv('/content/BuyAffinity_Test.txt', sep = '\\t')"
      ],
      "execution_count": 206,
      "outputs": []
    },
    {
      "cell_type": "code",
      "metadata": {
        "id": "sRnU72HMAFbj",
        "colab_type": "code",
        "colab": {}
      },
      "source": [
        "X_['C'] = y_pred_Final"
      ],
      "execution_count": 207,
      "outputs": []
    },
    {
      "cell_type": "code",
      "metadata": {
        "id": "D4On3fAiAKZi",
        "colab_type": "code",
        "colab": {
          "base_uri": "https://localhost:8080/",
          "height": 226
        },
        "outputId": "27810234-dc84-40c4-d2a8-41f61cff9940"
      },
      "source": [
        "X_.head()"
      ],
      "execution_count": 208,
      "outputs": [
        {
          "output_type": "execute_result",
          "data": {
            "text/html": [
              "<div>\n",
              "<style scoped>\n",
              "    .dataframe tbody tr th:only-of-type {\n",
              "        vertical-align: middle;\n",
              "    }\n",
              "\n",
              "    .dataframe tbody tr th {\n",
              "        vertical-align: top;\n",
              "    }\n",
              "\n",
              "    .dataframe thead th {\n",
              "        text-align: right;\n",
              "    }\n",
              "</style>\n",
              "<table border=\"1\" class=\"dataframe\">\n",
              "  <thead>\n",
              "    <tr style=\"text-align: right;\">\n",
              "      <th></th>\n",
              "      <th>Index</th>\n",
              "      <th>F1</th>\n",
              "      <th>F2</th>\n",
              "      <th>F3</th>\n",
              "      <th>F4</th>\n",
              "      <th>F5</th>\n",
              "      <th>F6</th>\n",
              "      <th>F7</th>\n",
              "      <th>F8</th>\n",
              "      <th>F9</th>\n",
              "      <th>F10</th>\n",
              "      <th>F11</th>\n",
              "      <th>F12</th>\n",
              "      <th>F13</th>\n",
              "      <th>F14</th>\n",
              "      <th>F15</th>\n",
              "      <th>F16</th>\n",
              "      <th>F17</th>\n",
              "      <th>F18</th>\n",
              "      <th>F19</th>\n",
              "      <th>F20</th>\n",
              "      <th>F21</th>\n",
              "      <th>F22</th>\n",
              "      <th>C</th>\n",
              "    </tr>\n",
              "  </thead>\n",
              "  <tbody>\n",
              "    <tr>\n",
              "      <th>0</th>\n",
              "      <td>T30234341</td>\n",
              "      <td>0.654765</td>\n",
              "      <td>0.812009</td>\n",
              "      <td>0.603190</td>\n",
              "      <td>0.391039</td>\n",
              "      <td>-5220</td>\n",
              "      <td>4825</td>\n",
              "      <td>-1784</td>\n",
              "      <td>7447</td>\n",
              "      <td>-7147</td>\n",
              "      <td>-3461806391</td>\n",
              "      <td>8178108368</td>\n",
              "      <td>-8674321652</td>\n",
              "      <td>8074343777</td>\n",
              "      <td>5553595074</td>\n",
              "      <td>9/17/1996</td>\n",
              "      <td>8/18/1990</td>\n",
              "      <td>1</td>\n",
              "      <td>1</td>\n",
              "      <td>436</td>\n",
              "      <td>478</td>\n",
              "      <td>1</td>\n",
              "      <td>1</td>\n",
              "      <td>1</td>\n",
              "    </tr>\n",
              "    <tr>\n",
              "      <th>1</th>\n",
              "      <td>T30234342</td>\n",
              "      <td>0.694636</td>\n",
              "      <td>0.690568</td>\n",
              "      <td>0.473460</td>\n",
              "      <td>0.259760</td>\n",
              "      <td>-618</td>\n",
              "      <td>-5018</td>\n",
              "      <td>2012</td>\n",
              "      <td>9259</td>\n",
              "      <td>9267</td>\n",
              "      <td>-36253473</td>\n",
              "      <td>-6531193961</td>\n",
              "      <td>1849753082</td>\n",
              "      <td>-5556861821</td>\n",
              "      <td>2216284070</td>\n",
              "      <td>11/7/1985</td>\n",
              "      <td>4/11/1990</td>\n",
              "      <td>1</td>\n",
              "      <td>1</td>\n",
              "      <td>138</td>\n",
              "      <td>56</td>\n",
              "      <td>10</td>\n",
              "      <td>4</td>\n",
              "      <td>0</td>\n",
              "    </tr>\n",
              "    <tr>\n",
              "      <th>2</th>\n",
              "      <td>T30234343</td>\n",
              "      <td>0.203759</td>\n",
              "      <td>0.323301</td>\n",
              "      <td>0.492294</td>\n",
              "      <td>0.011448</td>\n",
              "      <td>-8778</td>\n",
              "      <td>6141</td>\n",
              "      <td>6965</td>\n",
              "      <td>3774</td>\n",
              "      <td>4303</td>\n",
              "      <td>5354243488</td>\n",
              "      <td>8053401796</td>\n",
              "      <td>782597920</td>\n",
              "      <td>-2121815725</td>\n",
              "      <td>-315409510</td>\n",
              "      <td>7/9/1984</td>\n",
              "      <td>5/4/1997</td>\n",
              "      <td>1</td>\n",
              "      <td>1</td>\n",
              "      <td>117</td>\n",
              "      <td>323</td>\n",
              "      <td>10</td>\n",
              "      <td>1</td>\n",
              "      <td>0</td>\n",
              "    </tr>\n",
              "    <tr>\n",
              "      <th>3</th>\n",
              "      <td>T30234344</td>\n",
              "      <td>0.319627</td>\n",
              "      <td>0.286247</td>\n",
              "      <td>0.906197</td>\n",
              "      <td>0.093840</td>\n",
              "      <td>-7929</td>\n",
              "      <td>4471</td>\n",
              "      <td>7715</td>\n",
              "      <td>9543</td>\n",
              "      <td>335</td>\n",
              "      <td>7405036171</td>\n",
              "      <td>-2666864618</td>\n",
              "      <td>-8649240595</td>\n",
              "      <td>1389754605</td>\n",
              "      <td>-3360224957</td>\n",
              "      <td>6/3/1987</td>\n",
              "      <td>7/1/1988</td>\n",
              "      <td>1</td>\n",
              "      <td>1</td>\n",
              "      <td>115</td>\n",
              "      <td>149</td>\n",
              "      <td>16</td>\n",
              "      <td>21</td>\n",
              "      <td>0</td>\n",
              "    </tr>\n",
              "    <tr>\n",
              "      <th>4</th>\n",
              "      <td>T30234345</td>\n",
              "      <td>0.236003</td>\n",
              "      <td>0.782784</td>\n",
              "      <td>0.285689</td>\n",
              "      <td>0.383585</td>\n",
              "      <td>-3296</td>\n",
              "      <td>4564</td>\n",
              "      <td>-1580</td>\n",
              "      <td>-8559</td>\n",
              "      <td>-27</td>\n",
              "      <td>-6351599280</td>\n",
              "      <td>-2152422738</td>\n",
              "      <td>4768902493</td>\n",
              "      <td>3653338555</td>\n",
              "      <td>7604838279</td>\n",
              "      <td>7/17/1984</td>\n",
              "      <td>12/3/1993</td>\n",
              "      <td>1</td>\n",
              "      <td>1</td>\n",
              "      <td>527</td>\n",
              "      <td>281</td>\n",
              "      <td>3</td>\n",
              "      <td>1</td>\n",
              "      <td>0</td>\n",
              "    </tr>\n",
              "  </tbody>\n",
              "</table>\n",
              "</div>"
            ],
            "text/plain": [
              "       Index        F1        F2        F3        F4  ...  F19  F20  F21  F22  C\n",
              "0  T30234341  0.654765  0.812009  0.603190  0.391039  ...  436  478    1    1  1\n",
              "1  T30234342  0.694636  0.690568  0.473460  0.259760  ...  138   56   10    4  0\n",
              "2  T30234343  0.203759  0.323301  0.492294  0.011448  ...  117  323   10    1  0\n",
              "3  T30234344  0.319627  0.286247  0.906197  0.093840  ...  115  149   16   21  0\n",
              "4  T30234345  0.236003  0.782784  0.285689  0.383585  ...  527  281    3    1  0\n",
              "\n",
              "[5 rows x 24 columns]"
            ]
          },
          "metadata": {
            "tags": []
          },
          "execution_count": 208
        }
      ]
    },
    {
      "cell_type": "code",
      "metadata": {
        "id": "m6Yo5Hu_ALuV",
        "colab_type": "code",
        "colab": {}
      },
      "source": [
        "final = X_.filter(['Index','C'],axis=1)"
      ],
      "execution_count": 209,
      "outputs": []
    },
    {
      "cell_type": "code",
      "metadata": {
        "id": "TXijQzrUAnBS",
        "colab_type": "code",
        "colab": {
          "base_uri": "https://localhost:8080/",
          "height": 206
        },
        "outputId": "37393a25-ee4e-4b15-f664-b84b72fa5ed2"
      },
      "source": [
        "final.head()"
      ],
      "execution_count": 210,
      "outputs": [
        {
          "output_type": "execute_result",
          "data": {
            "text/html": [
              "<div>\n",
              "<style scoped>\n",
              "    .dataframe tbody tr th:only-of-type {\n",
              "        vertical-align: middle;\n",
              "    }\n",
              "\n",
              "    .dataframe tbody tr th {\n",
              "        vertical-align: top;\n",
              "    }\n",
              "\n",
              "    .dataframe thead th {\n",
              "        text-align: right;\n",
              "    }\n",
              "</style>\n",
              "<table border=\"1\" class=\"dataframe\">\n",
              "  <thead>\n",
              "    <tr style=\"text-align: right;\">\n",
              "      <th></th>\n",
              "      <th>Index</th>\n",
              "      <th>C</th>\n",
              "    </tr>\n",
              "  </thead>\n",
              "  <tbody>\n",
              "    <tr>\n",
              "      <th>0</th>\n",
              "      <td>T30234341</td>\n",
              "      <td>1</td>\n",
              "    </tr>\n",
              "    <tr>\n",
              "      <th>1</th>\n",
              "      <td>T30234342</td>\n",
              "      <td>0</td>\n",
              "    </tr>\n",
              "    <tr>\n",
              "      <th>2</th>\n",
              "      <td>T30234343</td>\n",
              "      <td>0</td>\n",
              "    </tr>\n",
              "    <tr>\n",
              "      <th>3</th>\n",
              "      <td>T30234344</td>\n",
              "      <td>0</td>\n",
              "    </tr>\n",
              "    <tr>\n",
              "      <th>4</th>\n",
              "      <td>T30234345</td>\n",
              "      <td>0</td>\n",
              "    </tr>\n",
              "  </tbody>\n",
              "</table>\n",
              "</div>"
            ],
            "text/plain": [
              "       Index  C\n",
              "0  T30234341  1\n",
              "1  T30234342  0\n",
              "2  T30234343  0\n",
              "3  T30234344  0\n",
              "4  T30234345  0"
            ]
          },
          "metadata": {
            "tags": []
          },
          "execution_count": 210
        }
      ]
    },
    {
      "cell_type": "code",
      "metadata": {
        "id": "npdhhouFA8Qu",
        "colab_type": "code",
        "colab": {}
      },
      "source": [
        "final.to_csv('prediction_Ravite_Anand.csv',index=False,header=True)"
      ],
      "execution_count": 211,
      "outputs": []
    },
    {
      "cell_type": "code",
      "metadata": {
        "id": "11it_gUwC2By",
        "colab_type": "code",
        "colab": {}
      },
      "source": [
        "import pickle"
      ],
      "execution_count": 212,
      "outputs": []
    },
    {
      "cell_type": "code",
      "metadata": {
        "id": "rdtsKb1H_PRH",
        "colab_type": "code",
        "colab": {
          "base_uri": "https://localhost:8080/",
          "height": 74
        },
        "outputId": "c222a3c5-64a5-4020-c87e-88f7af03d6f6"
      },
      "source": [
        "from sklearn.externals import joblib "
      ],
      "execution_count": 214,
      "outputs": [
        {
          "output_type": "stream",
          "text": [
            "/usr/local/lib/python3.6/dist-packages/sklearn/externals/joblib/__init__.py:15: FutureWarning: sklearn.externals.joblib is deprecated in 0.21 and will be removed in 0.23. Please import this functionality directly from joblib, which can be installed with: pip install joblib. If this warning is raised when loading pickled models, you may need to re-serialize those models with scikit-learn 0.21+.\n",
            "  warnings.warn(msg, category=FutureWarning)\n"
          ],
          "name": "stderr"
        }
      ]
    },
    {
      "cell_type": "code",
      "metadata": {
        "id": "pCA-sUuqAPJ5",
        "colab_type": "code",
        "colab": {
          "base_uri": "https://localhost:8080/",
          "height": 35
        },
        "outputId": "c271349f-54a9-4ab2-db37-8b0e654e4dec"
      },
      "source": [
        "# Save the model as a pickle in a file \n",
        "joblib.dump(model, '/content/saved_model.pkl') "
      ],
      "execution_count": 215,
      "outputs": [
        {
          "output_type": "execute_result",
          "data": {
            "text/plain": [
              "['/content/saved_model.pkl']"
            ]
          },
          "metadata": {
            "tags": []
          },
          "execution_count": 215
        }
      ]
    },
    {
      "cell_type": "code",
      "metadata": {
        "id": "1OQOb7eBAfb0",
        "colab_type": "code",
        "colab": {}
      },
      "source": [
        ""
      ],
      "execution_count": null,
      "outputs": []
    }
  ]
}